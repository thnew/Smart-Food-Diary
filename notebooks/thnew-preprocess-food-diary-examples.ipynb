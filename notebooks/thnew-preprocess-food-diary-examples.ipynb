{
 "cells": [
  {
   "cell_type": "code",
   "execution_count": 167,
   "metadata": {},
   "outputs": [
    {
     "name": "stdout",
     "output_type": "stream",
     "text": [
      "Collecting deep-translator\n",
      "  Downloading deep_translator-1.11.4-py3-none-any.whl.metadata (30 kB)\n",
      "Requirement already satisfied: beautifulsoup4<5.0.0,>=4.9.1 in /Users/thomasheigl/.pyenv/versions/3.10.6/envs/smart_food_diary/lib/python3.10/site-packages (from deep-translator) (4.12.3)\n",
      "Requirement already satisfied: requests<3.0.0,>=2.23.0 in /Users/thomasheigl/.pyenv/versions/3.10.6/envs/smart_food_diary/lib/python3.10/site-packages (from deep-translator) (2.31.0)\n",
      "Requirement already satisfied: soupsieve>1.2 in /Users/thomasheigl/.pyenv/versions/3.10.6/envs/smart_food_diary/lib/python3.10/site-packages (from beautifulsoup4<5.0.0,>=4.9.1->deep-translator) (2.5)\n",
      "Requirement already satisfied: charset-normalizer<4,>=2 in /Users/thomasheigl/.pyenv/versions/3.10.6/envs/smart_food_diary/lib/python3.10/site-packages (from requests<3.0.0,>=2.23.0->deep-translator) (3.3.2)\n",
      "Requirement already satisfied: idna<4,>=2.5 in /Users/thomasheigl/.pyenv/versions/3.10.6/envs/smart_food_diary/lib/python3.10/site-packages (from requests<3.0.0,>=2.23.0->deep-translator) (2.10)\n",
      "Requirement already satisfied: urllib3<3,>=1.21.1 in /Users/thomasheigl/.pyenv/versions/3.10.6/envs/smart_food_diary/lib/python3.10/site-packages (from requests<3.0.0,>=2.23.0->deep-translator) (2.2.1)\n",
      "Requirement already satisfied: certifi>=2017.4.17 in /Users/thomasheigl/.pyenv/versions/3.10.6/envs/smart_food_diary/lib/python3.10/site-packages (from requests<3.0.0,>=2.23.0->deep-translator) (2024.2.2)\n",
      "Downloading deep_translator-1.11.4-py3-none-any.whl (42 kB)\n",
      "\u001b[2K   \u001b[90m━━━━━━━━━━━━━━━━━━━━━━━━━━━━━━━━━━━━━━━━\u001b[0m \u001b[32m42.3/42.3 kB\u001b[0m \u001b[31m3.4 MB/s\u001b[0m eta \u001b[36m0:00:00\u001b[0m\n",
      "\u001b[?25hInstalling collected packages: deep-translator\n",
      "Successfully installed deep-translator-1.11.4\n"
     ]
    }
   ],
   "source": [
    "!pip install -U deep-translator"
   ]
  },
  {
   "cell_type": "code",
   "execution_count": 169,
   "metadata": {},
   "outputs": [],
   "source": [
    "import pandas as pd\n",
    "import numpy as np\n",
    "from deep_translator import GoogleTranslator"
   ]
  },
  {
   "cell_type": "code",
   "execution_count": 143,
   "metadata": {},
   "outputs": [
    {
     "data": {
      "text/html": [
       "<div>\n",
       "<style scoped>\n",
       "    .dataframe tbody tr th:only-of-type {\n",
       "        vertical-align: middle;\n",
       "    }\n",
       "\n",
       "    .dataframe tbody tr th {\n",
       "        vertical-align: top;\n",
       "    }\n",
       "\n",
       "    .dataframe thead th {\n",
       "        text-align: right;\n",
       "    }\n",
       "</style>\n",
       "<table border=\"1\" class=\"dataframe\">\n",
       "  <thead>\n",
       "    <tr style=\"text-align: right;\">\n",
       "      <th></th>\n",
       "      <th>german</th>\n",
       "      <th>time</th>\n",
       "    </tr>\n",
       "  </thead>\n",
       "  <tbody>\n",
       "    <tr>\n",
       "      <th>0</th>\n",
       "      <td>0,33 cola</td>\n",
       "      <td>12:13</td>\n",
       "    </tr>\n",
       "    <tr>\n",
       "      <th>1</th>\n",
       "      <td>0,66ml Cola</td>\n",
       "      <td>11:37</td>\n",
       "    </tr>\n",
       "    <tr>\n",
       "      <th>2</th>\n",
       "      <td>0.75 l hohes C</td>\n",
       "      <td>23:23</td>\n",
       "    </tr>\n",
       "    <tr>\n",
       "      <th>3</th>\n",
       "      <td>1 Aufbackbrötchen</td>\n",
       "      <td>9:35</td>\n",
       "    </tr>\n",
       "    <tr>\n",
       "      <th>4</th>\n",
       "      <td>1 bot mit Käse 1 Tee 0,4</td>\n",
       "      <td>9:50</td>\n",
       "    </tr>\n",
       "    <tr>\n",
       "      <th>...</th>\n",
       "      <td>...</td>\n",
       "      <td>...</td>\n",
       "    </tr>\n",
       "    <tr>\n",
       "      <th>276</th>\n",
       "      <td>zwei halbe Brötchen</td>\n",
       "      <td>06:20</td>\n",
       "    </tr>\n",
       "    <tr>\n",
       "      <th>277</th>\n",
       "      <td>zwei Scheiben Dinkel Toast, eins mit Marmelade...</td>\n",
       "      <td>8:00</td>\n",
       "    </tr>\n",
       "    <tr>\n",
       "      <th>278</th>\n",
       "      <td>zwei Scheiben Dinkel Toast, eins mit Marmelade...</td>\n",
       "      <td>10:6</td>\n",
       "    </tr>\n",
       "    <tr>\n",
       "      <th>279</th>\n",
       "      <td>zwei Scheiben, Dinkel Toast mit Krabben, Salat...</td>\n",
       "      <td>09:45</td>\n",
       "    </tr>\n",
       "    <tr>\n",
       "      <th>280</th>\n",
       "      <td>zwei Scheiben, Eiweiß, Brot, Avocado und ein E...</td>\n",
       "      <td>10:00</td>\n",
       "    </tr>\n",
       "  </tbody>\n",
       "</table>\n",
       "<p>281 rows × 2 columns</p>\n",
       "</div>"
      ],
      "text/plain": [
       "                                                german   time\n",
       "0                                            0,33 cola  12:13\n",
       "1                                          0,66ml Cola  11:37\n",
       "2                                       0.75 l hohes C  23:23\n",
       "3                                    1 Aufbackbrötchen   9:35\n",
       "4                             1 bot mit Käse 1 Tee 0,4   9:50\n",
       "..                                                 ...    ...\n",
       "276                                zwei halbe Brötchen  06:20\n",
       "277  zwei Scheiben Dinkel Toast, eins mit Marmelade...   8:00\n",
       "278  zwei Scheiben Dinkel Toast, eins mit Marmelade...   10:6\n",
       "279  zwei Scheiben, Dinkel Toast mit Krabben, Salat...  09:45\n",
       "280  zwei Scheiben, Eiweiß, Brot, Avocado und ein E...  10:00\n",
       "\n",
       "[281 rows x 2 columns]"
      ]
     },
     "execution_count": 143,
     "metadata": {},
     "output_type": "execute_result"
    }
   ],
   "source": [
    "csvPath = '../data/food-diary-examples.csv'\n",
    "df = pd.read_csv(csvPath, delimiter=';')\n",
    "df"
   ]
  },
  {
   "cell_type": "markdown",
   "metadata": {},
   "source": [
    "# Preprocess Time"
   ]
  },
  {
   "cell_type": "code",
   "execution_count": 144,
   "metadata": {},
   "outputs": [],
   "source": [
    "# Some of the time values are not in the correct format\n",
    "df['time'] = df['time'].str.replace('.', ':')\n",
    "df['time'] = df['time'].str.replace(' Uhr', '')\n",
    "df['time'] = df['time'].apply(lambda x: \"0:0\" if x is np.nan else x)\n",
    "df['time'] = df['time'].apply(lambda x: f\"{int(x)}:00\" if ':' not in str(x) else x)"
   ]
  },
  {
   "cell_type": "code",
   "execution_count": 145,
   "metadata": {},
   "outputs": [
    {
     "data": {
      "text/plain": [
       "0     1900-01-01 12:13:00\n",
       "1     1900-01-01 11:37:00\n",
       "2     1900-01-01 23:23:00\n",
       "3     1900-01-01 09:35:00\n",
       "4     1900-01-01 09:50:00\n",
       "              ...        \n",
       "276   1900-01-01 06:20:00\n",
       "277   1900-01-01 08:00:00\n",
       "278   1900-01-01 10:06:00\n",
       "279   1900-01-01 09:45:00\n",
       "280   1900-01-01 10:00:00\n",
       "Name: time, Length: 281, dtype: datetime64[ns]"
      ]
     },
     "execution_count": 145,
     "metadata": {},
     "output_type": "execute_result"
    }
   ],
   "source": [
    "pd.to_datetime(df['time'], format='%H:%M')"
   ]
  },
  {
   "cell_type": "code",
   "execution_count": 147,
   "metadata": {},
   "outputs": [
    {
     "data": {
      "text/html": [
       "<div>\n",
       "<style scoped>\n",
       "    .dataframe tbody tr th:only-of-type {\n",
       "        vertical-align: middle;\n",
       "    }\n",
       "\n",
       "    .dataframe tbody tr th {\n",
       "        vertical-align: top;\n",
       "    }\n",
       "\n",
       "    .dataframe thead th {\n",
       "        text-align: right;\n",
       "    }\n",
       "</style>\n",
       "<table border=\"1\" class=\"dataframe\">\n",
       "  <thead>\n",
       "    <tr style=\"text-align: right;\">\n",
       "      <th></th>\n",
       "      <th>german</th>\n",
       "      <th>time</th>\n",
       "      <th>hour</th>\n",
       "      <th>minute</th>\n",
       "    </tr>\n",
       "  </thead>\n",
       "  <tbody>\n",
       "    <tr>\n",
       "      <th>0</th>\n",
       "      <td>0,33 cola</td>\n",
       "      <td>12:13</td>\n",
       "      <td>12</td>\n",
       "      <td>13</td>\n",
       "    </tr>\n",
       "    <tr>\n",
       "      <th>1</th>\n",
       "      <td>0,66ml Cola</td>\n",
       "      <td>11:37</td>\n",
       "      <td>11</td>\n",
       "      <td>37</td>\n",
       "    </tr>\n",
       "    <tr>\n",
       "      <th>2</th>\n",
       "      <td>0.75 l hohes C</td>\n",
       "      <td>23:23</td>\n",
       "      <td>23</td>\n",
       "      <td>23</td>\n",
       "    </tr>\n",
       "    <tr>\n",
       "      <th>3</th>\n",
       "      <td>1 Aufbackbrötchen</td>\n",
       "      <td>9:35</td>\n",
       "      <td>9</td>\n",
       "      <td>35</td>\n",
       "    </tr>\n",
       "    <tr>\n",
       "      <th>4</th>\n",
       "      <td>1 bot mit Käse 1 Tee 0,4</td>\n",
       "      <td>9:50</td>\n",
       "      <td>9</td>\n",
       "      <td>50</td>\n",
       "    </tr>\n",
       "    <tr>\n",
       "      <th>...</th>\n",
       "      <td>...</td>\n",
       "      <td>...</td>\n",
       "      <td>...</td>\n",
       "      <td>...</td>\n",
       "    </tr>\n",
       "    <tr>\n",
       "      <th>276</th>\n",
       "      <td>zwei halbe Brötchen</td>\n",
       "      <td>06:20</td>\n",
       "      <td>6</td>\n",
       "      <td>20</td>\n",
       "    </tr>\n",
       "    <tr>\n",
       "      <th>277</th>\n",
       "      <td>zwei Scheiben Dinkel Toast, eins mit Marmelade...</td>\n",
       "      <td>8:00</td>\n",
       "      <td>8</td>\n",
       "      <td>0</td>\n",
       "    </tr>\n",
       "    <tr>\n",
       "      <th>278</th>\n",
       "      <td>zwei Scheiben Dinkel Toast, eins mit Marmelade...</td>\n",
       "      <td>10:6</td>\n",
       "      <td>10</td>\n",
       "      <td>6</td>\n",
       "    </tr>\n",
       "    <tr>\n",
       "      <th>279</th>\n",
       "      <td>zwei Scheiben, Dinkel Toast mit Krabben, Salat...</td>\n",
       "      <td>09:45</td>\n",
       "      <td>9</td>\n",
       "      <td>45</td>\n",
       "    </tr>\n",
       "    <tr>\n",
       "      <th>280</th>\n",
       "      <td>zwei Scheiben, Eiweiß, Brot, Avocado und ein E...</td>\n",
       "      <td>10:00</td>\n",
       "      <td>10</td>\n",
       "      <td>0</td>\n",
       "    </tr>\n",
       "  </tbody>\n",
       "</table>\n",
       "<p>281 rows × 4 columns</p>\n",
       "</div>"
      ],
      "text/plain": [
       "                                                german   time  hour  minute\n",
       "0                                            0,33 cola  12:13    12      13\n",
       "1                                          0,66ml Cola  11:37    11      37\n",
       "2                                       0.75 l hohes C  23:23    23      23\n",
       "3                                    1 Aufbackbrötchen   9:35     9      35\n",
       "4                             1 bot mit Käse 1 Tee 0,4   9:50     9      50\n",
       "..                                                 ...    ...   ...     ...\n",
       "276                                zwei halbe Brötchen  06:20     6      20\n",
       "277  zwei Scheiben Dinkel Toast, eins mit Marmelade...   8:00     8       0\n",
       "278  zwei Scheiben Dinkel Toast, eins mit Marmelade...   10:6    10       6\n",
       "279  zwei Scheiben, Dinkel Toast mit Krabben, Salat...  09:45     9      45\n",
       "280  zwei Scheiben, Eiweiß, Brot, Avocado und ein E...  10:00    10       0\n",
       "\n",
       "[281 rows x 4 columns]"
      ]
     },
     "execution_count": 147,
     "metadata": {},
     "output_type": "execute_result"
    }
   ],
   "source": [
    "df['hour'] = df['time'].str.split(':').apply(lambda time: int(time[0]))\n",
    "df['minute'] = df['time'].str.split(':').apply(lambda time: int(time[1]))\n",
    "df"
   ]
  },
  {
   "cell_type": "markdown",
   "metadata": {},
   "source": [
    "# Translate to English"
   ]
  },
  {
   "cell_type": "code",
   "execution_count": 174,
   "metadata": {},
   "outputs": [],
   "source": [
    "trans = GoogleTranslator(source='de', target='en')\n",
    "\n",
    "df['english'] = df['german'].apply(trans.translate)\n",
    "\n",
    "df"
   ]
  },
  {
   "cell_type": "markdown",
   "metadata": {},
   "source": [
    "# Save back to CSV"
   ]
  },
  {
   "cell_type": "code",
   "execution_count": null,
   "metadata": {},
   "outputs": [],
   "source": [
    "df.to_csv(csvPath)"
   ]
  }
 ],
 "metadata": {
  "kernelspec": {
   "display_name": "smart_food_diary",
   "language": "python",
   "name": "python3"
  },
  "language_info": {
   "codemirror_mode": {
    "name": "ipython",
    "version": 3
   },
   "file_extension": ".py",
   "mimetype": "text/x-python",
   "name": "python",
   "nbconvert_exporter": "python",
   "pygments_lexer": "ipython3",
   "version": "3.10.6"
  }
 },
 "nbformat": 4,
 "nbformat_minor": 2
}
