{
 "cells": [
  {
   "cell_type": "code",
   "execution_count": 2,
   "metadata": {},
   "outputs": [],
   "source": [
    "import pandas as pd\n",
    "import numpy as np"
   ]
  },
  {
   "cell_type": "code",
   "execution_count": 3,
   "metadata": {},
   "outputs": [],
   "source": [
    "df = pd.read_csv(\"../../2024-03-11_myfitnesspal_587k_sample.csv\")"
   ]
  },
  {
   "cell_type": "code",
   "execution_count": 4,
   "metadata": {},
   "outputs": [],
   "source": [
    "df['Units'] = df['Units'].str.strip()\n"
   ]
  },
  {
   "cell_type": "code",
   "execution_count": 5,
   "metadata": {},
   "outputs": [
    {
     "data": {
      "text/plain": [
       "Units\n",
       "g              0.146185\n",
       "cup            0.139082\n",
       "oz             0.091821\n",
       "tbsp           0.066672\n",
       "slice          0.042862\n",
       "egg            0.021248\n",
       "slices         0.020599\n",
       "ml             0.019821\n",
       "serving s      0.018606\n",
       "bar            0.017656\n",
       "large          0.016330\n",
       "container      0.015501\n",
       "grams          0.014682\n",
       "medium         0.014306\n",
       "tsp            0.013260\n",
       "packet         0.012100\n",
       "fl             0.010740\n",
       "sandwich       0.010494\n",
       "serving        0.009257\n",
       "scoop          0.008712\n",
       "muffin         0.007574\n",
       "bagel          0.006854\n",
       "tablespoon     0.006412\n",
       "pieces         0.006200\n",
       "cups           0.006149\n",
       "piece          0.005813\n",
       "roll           0.004904\n",
       "eggs           0.004389\n",
       "package        0.004360\n",
       "ounces         0.004180\n",
       "small          0.003972\n",
       "tbs            0.003900\n",
       "banana         0.003766\n",
       "biscuit        0.003487\n",
       "tbsp s         0.003371\n",
       "gr             0.003147\n",
       "links          0.002966\n",
       "tortilla       0.002927\n",
       "donut          0.002848\n",
       "tablespoons    0.002680\n",
       "crackers       0.002659\n",
       "cookie         0.002598\n",
       "scoops         0.002559\n",
       "tsp s          0.002460\n",
       "pouch          0.002455\n",
       "whole          0.002406\n",
       "each           0.002403\n",
       "teaspoon       0.002353\n",
       "bowl           0.002337\n",
       "patty          0.002313\n",
       "Name: proportion, dtype: float64"
      ]
     },
     "execution_count": 5,
     "metadata": {},
     "output_type": "execute_result"
    }
   ],
   "source": [
    "unit_counts = df['Units'].value_counts(normalize=True)\n",
    "top_units = unit_counts.head(50)\n",
    "top_units\n"
   ]
  },
  {
   "cell_type": "code",
   "execution_count": 6,
   "metadata": {},
   "outputs": [],
   "source": [
    "def replace_unit(u):\n",
    "    return u if not u in list[1:] else list[0]\n",
    "\n",
    "# lambda u: u if not u in list[1:] else list[0]"
   ]
  },
  {
   "cell_type": "code",
   "execution_count": 7,
   "metadata": {},
   "outputs": [],
   "source": [
    "grams = ['g', 'grams', 'gr', 'gramm', 'grammes', 'gram', 'g s', 'gram s', 'gramme s']\n",
    "slice = ['slice', 'slices', 'slice s']\n",
    "piece = ['piece', 'pieces', 'piece s']\n",
    "tablespoon = ['tablespoon', 'tablespoons', 'tbsps', 'tbsp', 'tbs', 'tbsp s', 'tbls', 'tbsl', 'tablespoon s']\n",
    "teaspoon = ['teaspoon', 'teaspoons', 'tsp', 'tsp s', 'tsps', 'teaspoon s']\n",
    "ounces = ['oz', 'ounces', 'oz s', 'ozs']\n",
    "cups =['cup', 'cups', 'c', 'cup s']\n",
    "eggs = ['egg', 'eggs', 'egg s']\n",
    "scoops = ['scoop', 'scoops', 'scoop s']\n",
    "serving = ['serving', 'servings', 'serving s']\n",
    "cookies = ['cookie', 'cookies', 'biscuit', 'biscuits', 'biscuit s', 'cookie s']\n",
    "dougnuts = ['doughnut', 'doughnuts', 'donut', 'donuts', 'donut s', 'doughnut s']\n",
    "ml = ['ml', 'mls', 'ml s']\n",
    "\n",
    "list_of_units = [grams, slice, piece, tablespoon, teaspoon, ounces, cups, eggs, scoops, serving, cookies, dougnuts, ml]\n",
    "\n",
    "\n",
    "for list in list_of_units:\n",
    "    df[\"Units\"] = df[\"Units\"].map(replace_unit)\n"
   ]
  },
  {
   "cell_type": "code",
   "execution_count": 8,
   "metadata": {},
   "outputs": [
    {
     "data": {
      "text/plain": [
       "3594"
      ]
     },
     "execution_count": 8,
     "metadata": {},
     "output_type": "execute_result"
    }
   ],
   "source": [
    "df['Units'].nunique()\n"
   ]
  },
  {
   "cell_type": "code",
   "execution_count": 34,
   "metadata": {},
   "outputs": [
    {
     "name": "stdout",
     "output_type": "stream",
     "text": [
      "(1, 2)\n",
      "(1, 3)\n",
      "(1, 4)\n",
      "(2, 1)\n",
      "(2, 3)\n",
      "(2, 4)\n",
      "(3, 1)\n",
      "(3, 2)\n",
      "(3, 4)\n",
      "(4, 1)\n",
      "(4, 2)\n",
      "(4, 3)\n"
     ]
    }
   ],
   "source": [
    "from itertools import permutations\n",
    "\n",
    "# make a table of scaling between 2 units: g & c\n",
    "# mean all calories for grams, then mean all cups, then divide by each other\n",
    "# the above must contain all permutations of the 2 units, so 2 in this case\n",
    "\n",
    "avg_cals_per_gram = 20\n",
    "avg_cals_per_cup = 200\n",
    "avg_cals_per_oz = 40\n",
    "avg_cals_per_serving = 800\n",
    "\n",
    "list_of_permutations =[(avg_cals_per_gram, 'g'), (avg_cals_per_cup, 'cup'), (avg_cals_per_oz, 'oz'), (avg_cals_per_serving, 'serving')]\n",
    "\n",
    "n = len(list_of_permutations)\n",
    "k = 2\n",
    "\n",
    "perm = permutations(range(1, n+1), k)\n",
    "for p in perm:\n",
    "    print(p)\n"
   ]
  },
  {
   "cell_type": "code",
   "execution_count": 25,
   "metadata": {},
   "outputs": [
    {
     "data": {
      "text/plain": [
       "20"
      ]
     },
     "execution_count": 25,
     "metadata": {},
     "output_type": "execute_result"
    }
   ],
   "source": [
    "avg_cals_per_gram"
   ]
  },
  {
   "cell_type": "code",
   "execution_count": 52,
   "metadata": {},
   "outputs": [
    {
     "name": "stdout",
     "output_type": "stream",
     "text": [
      "[0.1, 0.5, 0.0, 10.0, 5.0, 0.2, 2.0, 0.2, 0.1, 40.0, 4.0, 20.0]\n"
     ]
    }
   ],
   "source": [
    "perm = permutations(range(1, n+1), k)\n",
    "\n",
    "scaling_factor = []\n",
    "for p in perm:\n",
    "    # scale = p[0]/p[1]\n",
    "    scale =round(list_of_permutations[p[0]-1][0]/list_of_permutations[p[1]-1][0],1)\n",
    "    scaling_factor.append(scale)\n",
    "print(scaling_factor)\n",
    "# print(list_of_permutations[p[1]-1])"
   ]
  },
  {
   "cell_type": "code",
   "execution_count": 53,
   "metadata": {},
   "outputs": [
    {
     "data": {
      "text/plain": [
       "'serving'"
      ]
     },
     "execution_count": 53,
     "metadata": {},
     "output_type": "execute_result"
    }
   ],
   "source": [
    "list_of_permutations[p[0]-1][1]"
   ]
  },
  {
   "cell_type": "code",
   "execution_count": 54,
   "metadata": {},
   "outputs": [
    {
     "name": "stdout",
     "output_type": "stream",
     "text": [
      "   column_A column_B  scaling_factor\n",
      "0         g      cup             0.1\n",
      "1         g       oz             0.5\n",
      "2         g  serving             0.0\n",
      "3       cup        g            10.0\n",
      "4       cup       oz             5.0\n",
      "5       cup  serving             0.2\n",
      "6        oz        g             2.0\n",
      "7        oz      cup             0.2\n",
      "8        oz  serving             0.1\n",
      "9   serving        g            40.0\n",
      "10  serving      cup             4.0\n",
      "11  serving       oz            20.0\n"
     ]
    }
   ],
   "source": [
    "perm = permutations(range(1, n+1), k)\n",
    "list_1 = []\n",
    "list_2 = []\n",
    "for p in perm:\n",
    "    elem_1 = list_of_permutations[p[0]-1][1]\n",
    "    elem_2 = list_of_permutations[p[1]-1][1]\n",
    "    list_1.append(elem_1)\n",
    "    list_2.append(elem_2)\n",
    "df = pd.DataFrame({'column_A': list_1, 'column_B': list_2, 'scaling_factor': scaling_factor})\n",
    "print(df)"
   ]
  },
  {
   "cell_type": "code",
   "execution_count": 24,
   "metadata": {},
   "outputs": [
    {
     "data": {
      "text/plain": [
       "3617"
      ]
     },
     "execution_count": 24,
     "metadata": {},
     "output_type": "execute_result"
    }
   ],
   "source": []
  },
  {
   "cell_type": "code",
   "execution_count": null,
   "metadata": {},
   "outputs": [],
   "source": []
  }
 ],
 "metadata": {
  "kernelspec": {
   "display_name": "food_diary",
   "language": "python",
   "name": "python3"
  },
  "language_info": {
   "codemirror_mode": {
    "name": "ipython",
    "version": 3
   },
   "file_extension": ".py",
   "mimetype": "text/x-python",
   "name": "python",
   "nbconvert_exporter": "python",
   "pygments_lexer": "ipython3",
   "version": "3.10.6"
  }
 },
 "nbformat": 4,
 "nbformat_minor": 2
}
