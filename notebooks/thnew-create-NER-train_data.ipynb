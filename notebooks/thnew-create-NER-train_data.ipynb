{
 "cells": [
  {
   "cell_type": "code",
   "execution_count": 1,
   "metadata": {},
   "outputs": [
    {
     "name": "stdout",
     "output_type": "stream",
     "text": [
      "Requirement already satisfied: spacy in /Users/thomasheigl/.pyenv/versions/3.10.6/envs/smart_food_diary/lib/python3.10/site-packages (3.7.4)\n",
      "Requirement already satisfied: spacy-legacy<3.1.0,>=3.0.11 in /Users/thomasheigl/.pyenv/versions/3.10.6/envs/smart_food_diary/lib/python3.10/site-packages (from spacy) (3.0.12)\n",
      "Requirement already satisfied: spacy-loggers<2.0.0,>=1.0.0 in /Users/thomasheigl/.pyenv/versions/3.10.6/envs/smart_food_diary/lib/python3.10/site-packages (from spacy) (1.0.5)\n",
      "Requirement already satisfied: murmurhash<1.1.0,>=0.28.0 in /Users/thomasheigl/.pyenv/versions/3.10.6/envs/smart_food_diary/lib/python3.10/site-packages (from spacy) (1.0.10)\n",
      "Requirement already satisfied: cymem<2.1.0,>=2.0.2 in /Users/thomasheigl/.pyenv/versions/3.10.6/envs/smart_food_diary/lib/python3.10/site-packages (from spacy) (2.0.8)\n",
      "Requirement already satisfied: preshed<3.1.0,>=3.0.2 in /Users/thomasheigl/.pyenv/versions/3.10.6/envs/smart_food_diary/lib/python3.10/site-packages (from spacy) (3.0.9)\n",
      "Requirement already satisfied: thinc<8.3.0,>=8.2.2 in /Users/thomasheigl/.pyenv/versions/3.10.6/envs/smart_food_diary/lib/python3.10/site-packages (from spacy) (8.2.3)\n",
      "Requirement already satisfied: wasabi<1.2.0,>=0.9.1 in /Users/thomasheigl/.pyenv/versions/3.10.6/envs/smart_food_diary/lib/python3.10/site-packages (from spacy) (1.1.2)\n",
      "Requirement already satisfied: srsly<3.0.0,>=2.4.3 in /Users/thomasheigl/.pyenv/versions/3.10.6/envs/smart_food_diary/lib/python3.10/site-packages (from spacy) (2.4.8)\n",
      "Requirement already satisfied: catalogue<2.1.0,>=2.0.6 in /Users/thomasheigl/.pyenv/versions/3.10.6/envs/smart_food_diary/lib/python3.10/site-packages (from spacy) (2.0.10)\n",
      "Requirement already satisfied: weasel<0.4.0,>=0.1.0 in /Users/thomasheigl/.pyenv/versions/3.10.6/envs/smart_food_diary/lib/python3.10/site-packages (from spacy) (0.3.4)\n",
      "Requirement already satisfied: typer<0.10.0,>=0.3.0 in /Users/thomasheigl/.pyenv/versions/3.10.6/envs/smart_food_diary/lib/python3.10/site-packages (from spacy) (0.9.0)\n",
      "Requirement already satisfied: smart-open<7.0.0,>=5.2.1 in /Users/thomasheigl/.pyenv/versions/3.10.6/envs/smart_food_diary/lib/python3.10/site-packages (from spacy) (6.4.0)\n",
      "Requirement already satisfied: tqdm<5.0.0,>=4.38.0 in /Users/thomasheigl/.pyenv/versions/3.10.6/envs/smart_food_diary/lib/python3.10/site-packages (from spacy) (4.66.2)\n",
      "Requirement already satisfied: requests<3.0.0,>=2.13.0 in /Users/thomasheigl/.pyenv/versions/3.10.6/envs/smart_food_diary/lib/python3.10/site-packages (from spacy) (2.31.0)\n",
      "Requirement already satisfied: pydantic!=1.8,!=1.8.1,<3.0.0,>=1.7.4 in /Users/thomasheigl/.pyenv/versions/3.10.6/envs/smart_food_diary/lib/python3.10/site-packages (from spacy) (2.6.3)\n",
      "Requirement already satisfied: jinja2 in /Users/thomasheigl/.pyenv/versions/3.10.6/envs/smart_food_diary/lib/python3.10/site-packages (from spacy) (3.1.3)\n",
      "Requirement already satisfied: setuptools in /Users/thomasheigl/.pyenv/versions/3.10.6/envs/smart_food_diary/lib/python3.10/site-packages (from spacy) (63.2.0)\n",
      "Requirement already satisfied: packaging>=20.0 in /Users/thomasheigl/.pyenv/versions/3.10.6/envs/smart_food_diary/lib/python3.10/site-packages (from spacy) (23.2)\n",
      "Requirement already satisfied: langcodes<4.0.0,>=3.2.0 in /Users/thomasheigl/.pyenv/versions/3.10.6/envs/smart_food_diary/lib/python3.10/site-packages (from spacy) (3.3.0)\n",
      "Requirement already satisfied: numpy>=1.19.0 in /Users/thomasheigl/.pyenv/versions/3.10.6/envs/smart_food_diary/lib/python3.10/site-packages (from spacy) (1.26.4)\n",
      "Requirement already satisfied: annotated-types>=0.4.0 in /Users/thomasheigl/.pyenv/versions/3.10.6/envs/smart_food_diary/lib/python3.10/site-packages (from pydantic!=1.8,!=1.8.1,<3.0.0,>=1.7.4->spacy) (0.6.0)\n",
      "Requirement already satisfied: pydantic-core==2.16.3 in /Users/thomasheigl/.pyenv/versions/3.10.6/envs/smart_food_diary/lib/python3.10/site-packages (from pydantic!=1.8,!=1.8.1,<3.0.0,>=1.7.4->spacy) (2.16.3)\n",
      "Requirement already satisfied: typing-extensions>=4.6.1 in /Users/thomasheigl/.pyenv/versions/3.10.6/envs/smart_food_diary/lib/python3.10/site-packages (from pydantic!=1.8,!=1.8.1,<3.0.0,>=1.7.4->spacy) (4.10.0)\n",
      "Requirement already satisfied: charset-normalizer<4,>=2 in /Users/thomasheigl/.pyenv/versions/3.10.6/envs/smart_food_diary/lib/python3.10/site-packages (from requests<3.0.0,>=2.13.0->spacy) (3.3.2)\n",
      "Requirement already satisfied: idna<4,>=2.5 in /Users/thomasheigl/.pyenv/versions/3.10.6/envs/smart_food_diary/lib/python3.10/site-packages (from requests<3.0.0,>=2.13.0->spacy) (2.10)\n",
      "Requirement already satisfied: urllib3<3,>=1.21.1 in /Users/thomasheigl/.pyenv/versions/3.10.6/envs/smart_food_diary/lib/python3.10/site-packages (from requests<3.0.0,>=2.13.0->spacy) (2.2.1)\n",
      "Requirement already satisfied: certifi>=2017.4.17 in /Users/thomasheigl/.pyenv/versions/3.10.6/envs/smart_food_diary/lib/python3.10/site-packages (from requests<3.0.0,>=2.13.0->spacy) (2024.2.2)\n",
      "Requirement already satisfied: blis<0.8.0,>=0.7.8 in /Users/thomasheigl/.pyenv/versions/3.10.6/envs/smart_food_diary/lib/python3.10/site-packages (from thinc<8.3.0,>=8.2.2->spacy) (0.7.11)\n",
      "Requirement already satisfied: confection<1.0.0,>=0.0.1 in /Users/thomasheigl/.pyenv/versions/3.10.6/envs/smart_food_diary/lib/python3.10/site-packages (from thinc<8.3.0,>=8.2.2->spacy) (0.1.4)\n",
      "Requirement already satisfied: click<9.0.0,>=7.1.1 in /Users/thomasheigl/.pyenv/versions/3.10.6/envs/smart_food_diary/lib/python3.10/site-packages (from typer<0.10.0,>=0.3.0->spacy) (8.1.7)\n",
      "Requirement already satisfied: cloudpathlib<0.17.0,>=0.7.0 in /Users/thomasheigl/.pyenv/versions/3.10.6/envs/smart_food_diary/lib/python3.10/site-packages (from weasel<0.4.0,>=0.1.0->spacy) (0.16.0)\n",
      "Requirement already satisfied: MarkupSafe>=2.0 in /Users/thomasheigl/.pyenv/versions/3.10.6/envs/smart_food_diary/lib/python3.10/site-packages (from jinja2->spacy) (2.1.5)\n",
      "Note: you may need to restart the kernel to use updated packages.\n"
     ]
    }
   ],
   "source": [
    "%pip install -U spacy"
   ]
  },
  {
   "cell_type": "markdown",
   "metadata": {},
   "source": [
    "# Load train/test data"
   ]
  },
  {
   "cell_type": "code",
   "execution_count": 1,
   "metadata": {},
   "outputs": [],
   "source": [
    "import json\n",
    "from sklearn.model_selection import train_test_split\n",
    "\n",
    "def load_data(path):\n",
    "    with open(path, 'r') as f:\n",
    "        data = json.load(f)\n",
    "    return data\n",
    "\n",
    "json = load_data(\"../data/food-diary-examples-classified.json\")\n",
    "data = [x for x in json['annotations'] if x is not None]\n",
    "\n",
    "data_train, data_test = train_test_split(data, test_size=0.2)"
   ]
  },
  {
   "cell_type": "markdown",
   "metadata": {},
   "source": [
    "# Create model and train it"
   ]
  },
  {
   "cell_type": "code",
   "execution_count": 2,
   "metadata": {},
   "outputs": [
    {
     "name": "stderr",
     "output_type": "stream",
     "text": [
      "/Users/thomasheigl/.pyenv/versions/3.10.6/envs/smart_food_diary/lib/python3.10/site-packages/tqdm/auto.py:21: TqdmWarning: IProgress not found. Please update jupyter and ipywidgets. See https://ipywidgets.readthedocs.io/en/stable/user_install.html\n",
      "  from .autonotebook import tqdm as notebook_tqdm\n",
      "/Users/thomasheigl/.pyenv/versions/3.10.6/envs/smart_food_diary/lib/python3.10/site-packages/transformers/utils/generic.py:441: UserWarning: torch.utils._pytree._register_pytree_node is deprecated. Please use torch.utils._pytree.register_pytree_node instead.\n",
      "  _torch_pytree._register_pytree_node(\n",
      "/Users/thomasheigl/.pyenv/versions/3.10.6/envs/smart_food_diary/lib/python3.10/site-packages/transformers/utils/generic.py:309: UserWarning: torch.utils._pytree._register_pytree_node is deprecated. Please use torch.utils._pytree.register_pytree_node instead.\n",
      "  _torch_pytree._register_pytree_node(\n"
     ]
    },
    {
     "name": "stdout",
     "output_type": "stream",
     "text": [
      "Train Iterration 1\n"
     ]
    },
    {
     "name": "stderr",
     "output_type": "stream",
     "text": [
      "\" with entities \"[[0, 1, 'QUANTITY'], [2, 3, 'QUANTITY'], [4, 8, 'F...\". Use `spacy.training.offsets_to_biluo_tags(nlp.make_doc(text), entities)` to check the alignment. Misaligned entities ('-') will be ignored during training.\n",
      "  warnings.warn(\n",
      "/Users/thomasheigl/.pyenv/versions/3.10.6/envs/smart_food_diary/lib/python3.10/site-packages/spacy/training/iob_utils.py:149: UserWarning: [W030] Some entities could not be aligned in the text \"Alpro 120g oat yoghurt, 1/2 apple, 50g crunchy mue...\" with entities \"[[0, 5, 'FOOD'], [6, 9, 'QUANTITY'], [9, 10, 'UNIT...\". Use `spacy.training.offsets_to_biluo_tags(nlp.make_doc(text), entities)` to check the alignment. Misaligned entities ('-') will be ignored during training.\n",
      "  warnings.warn(\n",
      "/Users/thomasheigl/.pyenv/versions/3.10.6/envs/smart_food_diary/lib/python3.10/site-packages/spacy/training/iob_utils.py:149: UserWarning: [W030] Some entities could not be aligned in the text \"100g spaghetti, 200g tofu, 35g Barilla Pesto Rosso...\" with entities \"[[0, 3, 'QUANTITY'], [3, 4, 'UNIT'], [5, 14, 'FOOD...\". Use `spacy.training.offsets_to_biluo_tags(nlp.make_doc(text), entities)` to check the alignment. Misaligned entities ('-') will be ignored during training.\n",
      "  warnings.warn(\n",
      "\" with entities \"[[0, 12, 'FOOD'], [13, 16, 'QUANTITY'], [16, 18, '...\". Use `spacy.training.offsets_to_biluo_tags(nlp.make_doc(text), entities)` to check the alignment. Misaligned entities ('-') will be ignored during training.\n",
      "  warnings.warn(\n",
      "\" with entities \"[[0, 3, 'QUANTITY'], [3, 5, 'UNIT'], [6, 10, 'LIQU...\". Use `spacy.training.offsets_to_biluo_tags(nlp.make_doc(text), entities)` to check the alignment. Misaligned entities ('-') will be ignored during training.\n",
      "  warnings.warn(\n",
      "\" with entities \"[[0, 1, 'QUANTITY'], [3, 8, 'FOOD']]\". Use `spacy.training.offsets_to_biluo_tags(nlp.make_doc(text), entities)` to check the alignment. Misaligned entities ('-') will be ignored during training.\n",
      "  warnings.warn(\n",
      "/Users/thomasheigl/.pyenv/versions/3.10.6/envs/smart_food_diary/lib/python3.10/site-packages/spacy/training/iob_utils.py:149: UserWarning: [W030] Some entities could not be aligned in the text \"\"2 romaine lettuce hearts (approx. 100g each); the...\" with entities \"[[1, 2, 'QUANTITY'], [3, 25, 'FOOD'], [35, 39, 'QU...\". Use `spacy.training.offsets_to_biluo_tags(nlp.make_doc(text), entities)` to check the alignment. Misaligned entities ('-') will be ignored during training.\n",
      "  warnings.warn(\n",
      "\" with entities \"[[0, 1, 'QUANTITY'], [2, 7, 'FOOD'], [13, 20, 'FOO...\". Use `spacy.training.offsets_to_biluo_tags(nlp.make_doc(text), entities)` to check the alignment. Misaligned entities ('-') will be ignored during training.\n",
      "  warnings.warn(\n",
      "\" with entities \"[[0, 1, 'QUANTITY'], [3, 8, 'FOOD'], [14, 20, 'FOO...\". Use `spacy.training.offsets_to_biluo_tags(nlp.make_doc(text), entities)` to check the alignment. Misaligned entities ('-') will be ignored during training.\n",
      "  warnings.warn(\n",
      "\" with entities \"[[0, 1, 'QUANTITY'], [3, 9, 'UNIT'], [13, 18, 'FOO...\". Use `spacy.training.offsets_to_biluo_tags(nlp.make_doc(text), entities)` to check the alignment. Misaligned entities ('-') will be ignored during training.\n",
      "  warnings.warn(\n",
      "\" with entities \"[[0, 1, 'QUANTITY'], [2, 20, 'FOOD'], [21, 22, 'QU...\". Use `spacy.training.offsets_to_biluo_tags(nlp.make_doc(text), entities)` to check the alignment. Misaligned entities ('-') will be ignored during training.tea\n",
      "  warnings.warn(\n",
      "\" with entities \"[[0, 1, 'QUANTITY'], [2, 7, 'FOOD'], [13, 20, 'FOO...\". Use `spacy.training.offsets_to_biluo_tags(nlp.make_doc(text), entities)` to check the alignment. Misaligned entities ('-') will be ignored during training.tea\n",
      "  warnings.warn(\n",
      "/Users/thomasheigl/.pyenv/versions/3.10.6/envs/smart_food_diary/lib/python3.10/site-packages/spacy/training/iob_utils.py:149: UserWarning: [W030] Some entities could not be aligned in the text \"\"Canteen: Spinach Feta Quiche approx. 300g; small ...\" with entities \"[[10, 29, 'FOOD'], [38, 41, 'QUANTITY'], [41, 42, ...\". Use `spacy.training.offsets_to_biluo_tags(nlp.make_doc(text), entities)` to check the alignment. Misaligned entities ('-') will be ignored during training.\n",
      "  warnings.warn(\n",
      "/Users/thomasheigl/.pyenv/versions/3.10.6/envs/smart_food_diary/lib/python3.10/site-packages/spacy/training/iob_utils.py:149: UserWarning: [W030] Some entities could not be aligned in the text \"romaine lettuce approx. 100g, cucumber 100g, dress...\" with entities \"[[0, 15, 'FOOD'], [24, 27, 'QUANTITY'], [27, 28, '...\". Use `spacy.training.offsets_to_biluo_tags(nlp.make_doc(text), entities)` to check the alignment. Misaligned entities ('-') will be ignored during training.\n",
      "  warnings.warn(\n",
      "/Users/thomasheigl/.pyenv/versions/3.10.6/envs/smart_food_diary/lib/python3.10/site-packages/spacy/training/iob_utils.py:149: UserWarning: [W030] Some entities could not be aligned in the text \"Wonder chunks chicken style 185g, 1tbsp oil, All S...\" with entities \"[[0, 27, 'FOOD'], [28, 31, 'QUANTITY'], [31, 32, '...\". Use `spacy.training.offsets_to_biluo_tags(nlp.make_doc(text), entities)` to check the alignment. Misaligned entities ('-') will be ignored during training.\n",
      "  warnings.warn(\n",
      "\" with entities \"[[0, 3, 'QUANTITY'], [3, 4, 'UNIT'], [5, 9, 'LIQUI...\". Use `spacy.training.offsets_to_biluo_tags(nlp.make_doc(text), entities)` to check the alignment. Misaligned entities ('-') will be ignored during training.\n",
      "  warnings.warn(\n",
      "\" with entities \"[[0, 1, 'QUANTITY'], [1, 11, 'FOOD'], [17, 23, 'FO...\". Use `spacy.training.offsets_to_biluo_tags(nlp.make_doc(text), entities)` to check the alignment. Misaligned entities ('-') will be ignored during training.\n",
      "  warnings.warn(\n",
      "\" with entities \"[[0, 1, 'QUANTITY'], [2, 8, 'UNIT'], [12, 21, 'FOO...\". Use `spacy.training.offsets_to_biluo_tags(nlp.make_doc(text), entities)` to check the alignment. Misaligned entities ('-') will be ignored during training., 1x Oreo\n",
      "  warnings.warn(\n",
      "\" with entities \"[[0, 1, 'QUANTITY'], [2, 5, 'LIQUID'], [6, 9, 'QUA...\". Use `spacy.training.offsets_to_biluo_tags(nlp.make_doc(text), entities)` to check the alignment. Misaligned entities ('-') will be ignored during training.\n",
      "  warnings.warn(\n",
      "\" with entities \"[[0, 1, 'QUANTITY'], [1, 2, 'UNIT'], [3, 7, 'LIQUI...\". Use `spacy.training.offsets_to_biluo_tags(nlp.make_doc(text), entities)` to check the alignment. Misaligned entities ('-') will be ignored during training.\n",
      "  warnings.warn(\n",
      "\" with entities \"[[0, 4, 'QUANTITY'], [4, 5, 'UNIT'], [6, 12, 'LIQU...\". Use `spacy.training.offsets_to_biluo_tags(nlp.make_doc(text), entities)` to check the alignment. Misaligned entities ('-') will be ignored during training.\n",
      "  warnings.warn(\n",
      "\" with entities \"[[0, 1, 'QUANTITY'], [2, 6, 'FOOD'], [7, 8, 'QUANT...\". Use `spacy.training.offsets_to_biluo_tags(nlp.make_doc(text), entities)` to check the alignment. Misaligned entities ('-') will be ignored during training.\n",
      "  warnings.warn(\n",
      "/Users/thomasheigl/.pyenv/versions/3.10.6/envs/smart_food_diary/lib/python3.10/site-packages/spacy/training/iob_utils.py:149: UserWarning: [W030] Some entities could not be aligned in the text \"2 Goldähren burger buns, 1/2 vegan steak Aldi, 5 m...\" with entities \"[[0, 1, 'QUANTITY'], [2, 23, 'FOOD'], [25, 26, 'QU...\". Use `spacy.training.offsets_to_biluo_tags(nlp.make_doc(text), entities)` to check the alignment. Misaligned entities ('-') will be ignored during training.\n",
      "  warnings.warn(\n",
      "\" with entities \"[[0, 4, 'QUANTITY'], [4, 6, 'UNIT'], [7, 11, 'LIQU...\". Use `spacy.training.offsets_to_biluo_tags(nlp.make_doc(text), entities)` to check the alignment. Misaligned entities ('-') will be ignored during training.\n",
      "  warnings.warn(\n",
      "/Users/thomasheigl/.pyenv/versions/3.10.6/envs/smart_food_diary/lib/python3.10/site-packages/spacy/training/iob_utils.py:149: UserWarning: [W030] Some entities could not be aligned in the text \"3 slices of bread, 2 cream yogurt, 1 tbsp meat sal...\" with entities \"[[0, 1, 'QUANTITY'], [2, 8, 'UNIT'], [12, 17, 'FOO...\". Use `spacy.training.offsets_to_biluo_tags(nlp.make_doc(text), entities)` to check the alignment. Misaligned entities ('-') will be ignored during training.\n",
      "  warnings.warn(\n",
      "/Users/thomasheigl/.pyenv/versions/3.10.6/envs/smart_food_diary/lib/python3.10/site-packages/spacy/training/iob_utils.py:149: UserWarning: [W030] Some entities could not be aligned in the text \"\"3x crispbread Finn Crisp; Soft goat cheese 25g; G...\" with entities \"[[1, 2, 'QUANTITY'], [4, 25, 'FOOD'], [27, 43, 'FO...\". Use `spacy.training.offsets_to_biluo_tags(nlp.make_doc(text), entities)` to check the alignment. Misaligned entities ('-') will be ignored during training.\n",
      "  warnings.warn(\n",
      "/Users/thomasheigl/.pyenv/versions/3.10.6/envs/smart_food_diary/lib/python3.10/site-packages/spacy/training/iob_utils.py:149: UserWarning: [W030] Some entities could not be aligned in the text \"Protein shake (30g vegan Protein Cookies n Cream f...\" with entities \"[[0, 13, 'LIQUID'], [15, 17, 'FOOD'], [17, 18, 'QU...\". Use `spacy.training.offsets_to_biluo_tags(nlp.make_doc(text), entities)` to check the alignment. Misaligned entities ('-') will be ignored during training.\n",
      "  warnings.warn(\n",
      "\" with entities \"[[0, 1, 'QUANTITY'], [1, 6, 'FOOD']]\". Use `spacy.training.offsets_to_biluo_tags(nlp.make_doc(text), entities)` to check the alignment. Misaligned entities ('-') will be ignored during training.\n",
      "  warnings.warn(\n"
     ]
    },
    {
     "name": "stdout",
     "output_type": "stream",
     "text": [
      "Train Iterration 2\n",
      "Train Iterration 3\n",
      "Train Iterration 4\n",
      "Train Iterration 5\n",
      "Train Iterration 6\n",
      "Train Iterration 7\n",
      "Train Iterration 8\n",
      "Train Iterration 9\n",
      "Train Iterration 10\n"
     ]
    },
    {
     "data": {
      "text/plain": [
       "(<spacy.pipeline.ner.EntityRecognizer at 0x1739743c0>,\n",
       " {'ner': 3380.722982466981})"
      ]
     },
     "execution_count": 2,
     "metadata": {},
     "output_type": "execute_result"
    }
   ],
   "source": [
    "import spacy\n",
    "from spacy.training.example import Example\n",
    "\n",
    "nlp = spacy.blank('en')\n",
    "ner = nlp.add_pipe('ner')\n",
    "\n",
    "# This would be to open an existing model\n",
    "#!python -m spacy download en_core_web_md\n",
    "#nlp = spacy.load('en_core_web_md')\n",
    "\n",
    "ner.add_label(\"FOOD\")\n",
    "ner.add_label(\"QUANTITY\")\n",
    "ner.add_label(\"UNIT\")\n",
    "ner.add_label(\"CALORIES\")\n",
    "ner.add_label(\"LIQUID\")\n",
    "\n",
    "#optimizer = nlp.create_optimizer() # Just use this if you create a blank new model. But here we use a pretrained model.\n",
    "optimizer = nlp.begin_training()\n",
    "\n",
    "losses = {}\n",
    "for iter in range(10):\n",
    "    print(f\"Train Iterration {iter + 1}\")\n",
    "    for batch in spacy.util.minibatch(data_train, size=200):\n",
    "        for text, annotations in batch:\n",
    "            #print(\"Text:\", text)\n",
    "            #print(\"Annotations:\", annotations)\n",
    "            # create Example\n",
    "            example = Example.from_dict(nlp.make_doc(text), annotations)\n",
    "\n",
    "            # Update the model\n",
    "            nlp.update([example], drop=0.3, sgd=optimizer, losses=losses)\n",
    "\n",
    "ner, losses"
   ]
  },
  {
   "cell_type": "markdown",
   "metadata": {},
   "source": [
    "# Test with test data"
   ]
  },
  {
   "cell_type": "code",
   "execution_count": 3,
   "metadata": {},
   "outputs": [
    {
     "name": "stdout",
     "output_type": "stream",
     "text": [
      "Text: Strawberries\n",
      "Entities [('Strawberries', 'FOOD')]\n",
      "Text: 2 rolls with cheese and jam\n",
      "Entities [('2', 'QUANTITY'), ('rolls', 'FOOD'), ('cheese', 'FOOD'), ('jam', 'FOOD')]\n",
      "Text: two slices of spelled toast, one with jam, one with honey and then two cups of coffee\n",
      "Entities [('two', 'QUANTITY'), ('slices', 'UNIT'), ('spelled toast', 'FOOD'), ('one', 'QUANTITY'), ('jam', 'FOOD'), ('one', 'QUANTITY'), ('honey', 'FOOD'), ('two', 'QUANTITY'), ('cups', 'UNIT'), ('coffee', 'LIQUID')]\n",
      "Text: freshly baked bread roll, 1 egg and cream cheese with jam\n",
      "Entities [('freshly', 'FOOD'), ('bread roll', 'FOOD'), ('1', 'QUANTITY'), ('egg', 'FOOD'), ('cream cheese', 'FOOD'), ('jam', 'FOOD')]\n",
      "Text: 2x crispbread Finn Crisp, Magerine 10g, Gutfried like meat sausage 40g\n",
      "Entities [('2x crispbread Finn Crisp', 'FOOD'), ('Magerine', 'FOOD'), ('10', 'QUANTITY'), ('g', 'UNIT'), ('Gutfried like meat sausage', 'FOOD'), ('40', 'QUANTITY'), ('g', 'UNIT')]\n",
      "Text: 100g chocolate 0.3 ml hot chocolate\n",
      "Entities [('100', 'QUANTITY'), ('g', 'UNIT'), ('chocolate', 'FOOD'), ('0.3', 'QUANTITY'), ('ml', 'UNIT'), ('hot chocolate', 'LIQUID')]\n",
      "Text: chocolate cake\n",
      "Entities [('chocolate cake', 'FOOD')]\n",
      "Text: a slice of spelled toast with honey and two cups of coffee\n",
      "Entities [('slice', 'UNIT'), ('spelled toast', 'FOOD'), ('honey', 'FOOD'), ('two', 'QUANTITY'), ('cups', 'UNIT'), ('coffee', 'LIQUID')]\n",
      "Text: a slice of toast with cheese\n",
      "Entities [('slice', 'UNIT'), ('toast', 'FOOD'), ('cheese', 'FOOD')]\n",
      "Text: Nutella\n",
      "Entities [('Nutella', 'FOOD')]\n",
      "Text: Muesli\n",
      "Entities [('Muesli', 'FOOD')]\n",
      "Text: veganz protein choc bar chocolate brownie style\n",
      "Entities [('veganz protein choc bar chocolate brownie style', 'FOOD')]\n",
      "Text: a pepper, steak\n",
      "Entities [('pepper', 'FOOD'), ('steak', 'FOOD')]\n",
      "Text: 500 ml sparkling water\n",
      "Entities [('500', 'QUANTITY'), ('ml', 'UNIT'), ('sparkling', 'FOOD')]\n",
      "Text: Bun, 15g lean cheese, 30g soft goat cheese, 40g chocolate sprinkles, 1 egg, 1/2 apple, 1/2 cheese snail from the bakery\n",
      "Entities [('Bun', 'FOOD'), ('15', 'QUANTITY'), ('g', 'UNIT'), ('lean cheese', 'FOOD'), ('30', 'QUANTITY'), ('g', 'UNIT'), ('soft goat cheese', 'FOOD'), ('40', 'QUANTITY'), ('g', 'UNIT'), ('chocolate sprinkles', 'FOOD'), ('1', 'QUANTITY'), ('egg', 'FOOD'), ('1/2', 'QUANTITY'), ('apple', 'FOOD'), ('1/2', 'QUANTITY'), ('cheese snail', 'FOOD')]\n",
      "Text: 2 breads with veggie spread eggplant approx. 40g\n",
      "Entities [('2', 'QUANTITY'), ('breads', 'FOOD'), ('veggie spread eggplant', 'FOOD'), ('40', 'QUANTITY'), ('g', 'UNIT')]\n",
      "Text: Aperol 1 glass\n",
      "Entities [('Aperol', 'FOOD'), ('1', 'QUANTITY'), ('glass', 'FOOD')]\n",
      "Text: 1 glass of wine\n",
      "Entities [('1', 'QUANTITY'), ('glass', 'UNIT'), ('wine', 'FOOD')]\n",
      "Text: a white bun with cheese\n",
      "Entities [('white bun with cheese', 'FOOD')]\n",
      "Text: 2 fried eggs 2 bacon 1 brown bread\n",
      "Entities [('2', 'QUANTITY'), ('fried eggs', 'FOOD'), ('2', 'QUANTITY'), ('bacon', 'FOOD'), ('1', 'QUANTITY'), ('brown bread', 'FOOD')]\n",
      "Text: 3 slices of wheat bread, meat salad about 2 tablespoons, 2 slices of salami, 2 teaspoons of honey, butter\n",
      "Entities [('3', 'QUANTITY'), ('slices', 'UNIT'), ('wheat bread', 'FOOD'), ('meat salad', 'FOOD'), ('about', 'FOOD'), ('2', 'QUANTITY'), ('tablespoons', 'FOOD'), ('2', 'QUANTITY'), ('slices', 'UNIT'), ('salami', 'FOOD'), ('2', 'QUANTITY'), ('teaspoons', 'UNIT'), ('honey', 'FOOD'), ('butter', 'FOOD')]\n",
      "Text: Breakfast in the café with friend! 1 roll, 2 slices of wholemeal bread, 2 slices of Gouda, 1/4 Camembert, 15 grams of butter, 200 grams of grapes\n",
      "Entities [('Breakfast in the café', 'FOOD'), ('1', 'QUANTITY'), ('roll', 'FOOD'), ('2', 'QUANTITY'), ('slices', 'UNIT'), ('wholemeal bread', 'FOOD'), ('2', 'QUANTITY'), ('slices', 'UNIT'), ('Gouda', 'FOOD'), ('1/4', 'QUANTITY'), ('Camembert', 'FOOD'), ('15', 'QUANTITY'), ('grams', 'UNIT'), ('butter', 'FOOD'), ('200', 'QUANTITY'), ('grams', 'UNIT'), ('grapes', 'FOOD')]\n",
      "Text: 2 rolls, 2 slices of salami, 2 slices of goat cheese, egg salad spread approx. 1 tbsp, jam 2. tsp, butter\n",
      "Entities [('2', 'QUANTITY'), ('rolls', 'FOOD'), ('2', 'QUANTITY'), ('slices', 'UNIT'), ('salami', 'FOOD'), ('2', 'QUANTITY'), ('slices', 'UNIT'), ('goat cheese', 'FOOD'), ('egg', 'FOOD'), ('salad', 'FOOD'), ('spread', 'FOOD'), ('1', 'QUANTITY'), ('tbsp', 'UNIT'), ('jam', 'FOOD'), ('2', 'QUANTITY'), ('.', 'QUANTITY'), ('tsp', 'UNIT'), ('butter', 'FOOD')]\n",
      "Text: 1 cheese-snail from the bakery\n",
      "Entities [('1', 'QUANTITY'), ('cheese-snail', 'FOOD')]\n",
      "Text: 170 g pasta +150 g chicken, two teaspoons of pasta sauce\n",
      "Entities [('170', 'QUANTITY'), ('g', 'UNIT'), ('pasta +150 g chicken, two teaspoons of pasta sauce', 'FOOD')]\n",
      "Text: croissant\n",
      "Entities [('croissant', 'FOOD')]\n",
      "Text: 1 bread, Gutfried Wie Fleischwurst 15g, margerine 5g\n",
      "Entities [('1', 'QUANTITY'), ('bread', 'FOOD'), ('Gutfried Wie Fleischwurst', 'FOOD'), ('15', 'QUANTITY'), ('g', 'UNIT'), ('margerine', 'FOOD'), ('5', 'QUANTITY'), ('g', 'UNIT')]\n",
      "Text: a bag of lentil chips😊\n",
      "Entities [('lentil chips', 'FOOD')]\n",
      "Text: sub 30cm with stake and salad kocki 0.5l Mountain Dew\n",
      "Entities [('30', 'QUANTITY'), ('cm', 'UNIT'), ('stake', 'FOOD'), ('0.5l', 'QUANTITY'), ('Mountain Dew', 'FOOD')]\n",
      "Text: 180g hip steak with fried potatoes\n",
      "Entities [('180', 'QUANTITY'), ('g', 'UNIT'), ('hip steak with fried potatoes', 'FOOD')]\n",
      "Text: Lunch: Eggplant and tomato casserole with sheep's cheese, with rice\n",
      "Entities [('Lunch: Eggplant', 'LIQUID'), ('tomato casserole', 'FOOD'), ('sheep', 'FOOD'), (\"'s\", 'QUANTITY'), ('cheese', 'FOOD'), ('rice', 'FOOD')]\n",
      "Text: Aperol Spritz\n",
      "Entities [('Aperol Spritz', 'LIQUID')]\n",
      "Text: two slices of spelled toast with crabs, salad and two boiled eggs and three mugs of coffee\n",
      "Entities [('two', 'QUANTITY'), ('slices', 'UNIT'), ('spelled toast', 'FOOD'), ('crabs', 'FOOD'), ('salad', 'FOOD'), ('two', 'QUANTITY'), ('boiled eggs', 'FOOD'), ('coffee', 'LIQUID')]\n",
      "Text: jumbo kebab with sweet potato fries 0.4 cola\n",
      "Entities [('jumbo kebab', 'FOOD'), ('sweet', 'FOOD'), ('potato fries', 'FOOD'), ('0.4', 'QUANTITY'), ('cola', 'LIQUID')]\n",
      "Text: a slice of whole wheat toast with crab salad and two small beef meatballs\n",
      "Entities [('slice', 'UNIT'), ('whole wheat toast', 'FOOD'), ('crab salad', 'FOOD'), ('two', 'QUANTITY'), ('small', 'UNIT'), ('beef meatballs', 'FOOD')]\n",
      "Text: Breakfast like yesterday\n",
      "Entities [('Breakfast like yesterday', 'FOOD')]\n",
      "Text: Fritz lemonade lemon\n",
      "Entities [('Fritz lemonade lemon', 'FOOD')]\n",
      "Text: Five chocolate Easter eggs and a slightly larger bit of cookies spread throughout the day\n",
      "Entities [('Five chocolate Easter eggs', 'FOOD'), ('slightly larger', 'FOOD'), ('cookies spread throughout', 'FOOD')]\n",
      "Text: PeterPane HoldeMaid, large vegetarian burger, small portion of sweet potato fries, mayo dip, cola\n",
      "Entities [('large vegetarian burger', 'FOOD'), ('small portion', 'UNIT'), ('sweet', 'FOOD'), ('potato fries', 'FOOD'), ('mayo dip', 'FOOD'), ('cola', 'LIQUID')]\n",
      "Text: 1 bread with sausage 500 ml water\n",
      "Entities [('1', 'QUANTITY'), ('bread with sausage', 'FOOD'), ('500', 'QUANTITY'), ('ml', 'UNIT'), ('water', 'LIQUID')]\n",
      "Text: 1 small piece of tiramisu and strawberries\n",
      "Entities [('1', 'QUANTITY'), ('small piece', 'UNIT'), ('tiramisu', 'FOOD'), ('strawberries', 'FOOD')]\n",
      "Text: 1.5 buns with jam and cheese\n",
      "Entities [('1.5', 'QUANTITY'), ('buns', 'FOOD'), ('jam', 'FOOD'), ('cheese', 'FOOD')]\n",
      "Text: a small banana\n",
      "Entities [('small', 'UNIT'), ('banana', 'FOOD')]\n",
      "Text: 500 ml water with creatine and Eaa\n",
      "Entities [('500', 'QUANTITY'), ('ml', 'UNIT'), ('water', 'LIQUID'), ('creatine', 'FOOD'), ('Eaa', 'FOOD')]\n",
      "Text: 300 g salmon fillet and five small potatoes\n",
      "Entities [('300', 'QUANTITY'), ('g', 'UNIT'), ('salmon fillet', 'FOOD'), ('five', 'FOOD'), ('potatoes', 'FOOD')]\n",
      "Text: 2 spelled breads, one with cottage cheese and jam the other with dandelion honey\n",
      "Entities [('2', 'QUANTITY'), ('spelled breads', 'FOOD'), ('one', 'QUANTITY'), ('cottage cheese', 'FOOD'), ('jam', 'FOOD'), ('other', 'FOOD'), ('dandelion honey', 'FOOD')]\n",
      "Text: Rice with fennel, peppers, carrots, zucchini and spring onions and 2 chicken thighs\n",
      "Entities [('Rice with fennel', 'FOOD'), ('peppers', 'FOOD'), ('carrots', 'FOOD'), ('zucchini', 'FOOD'), ('spring onions', 'FOOD'), ('2', 'QUANTITY'), ('chicken', 'UNIT')]\n",
      "Text: 250ml water\n",
      "Entities [('250ml', 'QUANTITY'), ('water', 'LIQUID')]\n",
      "Text: 4 toast, 50veggie meat salad, vegan chicken 185g, aioli approx. 20g\n",
      "Entities [('4', 'QUANTITY'), ('toast', 'FOOD'), ('meat salad', 'FOOD'), ('vegan chicken', 'FOOD'), ('185', 'QUANTITY'), ('g', 'UNIT'), ('aioli', 'FOOD'), ('20', 'QUANTITY'), ('g', 'UNIT')]\n",
      "Text: Alpro oat yoghurt 200g, 90g crunchy muesli, 1/2 apple, 5g agave syrup\n",
      "Entities [('Alpro oat yoghurt', 'FOOD'), ('200', 'QUANTITY'), ('g', 'UNIT'), ('90', 'QUANTITY'), ('g', 'UNIT'), ('crunchy muesli', 'FOOD'), ('1/2', 'QUANTITY'), ('apple', 'FOOD'), ('5', 'QUANTITY'), ('g', 'UNIT'), ('agave syrup', 'LIQUID')]\n",
      "Text: 1 spaghetti pizza with cheese and bolognese\n",
      "Entities [('1', 'QUANTITY'), ('spaghetti pizza with cheese', 'FOOD'), ('bolognese', 'FOOD')]\n",
      "Text: Bun\n",
      "Entities [('Bun', 'FOOD')]\n"
     ]
    }
   ],
   "source": [
    "for text, _ in data_test:\n",
    "    print(f\"Text:\", text)\n",
    "    doc = nlp(text)\n",
    "    print('Entities', [(ent.text, ent.label_) for ent in doc.ents])"
   ]
  },
  {
   "cell_type": "code",
   "execution_count": 10,
   "metadata": {},
   "outputs": [
    {
     "name": "stderr",
     "output_type": "stream",
     "text": [
      "/Users/thomasheigl/.pyenv/versions/3.10.6/envs/smart_food_diary/lib/python3.10/site-packages/spacy/displacy/__init__.py:106: UserWarning: [W011] It looks like you're calling displacy.serve from within a Jupyter notebook or a similar environment. This likely means you're already running a local web server, so there's no need to make displaCy start another one. Instead, you should be able to replace displacy.serve with displacy.render to show the visualization.\n",
      "  warnings.warn(Warnings.W011)\n"
     ]
    },
    {
     "data": {
      "text/html": [
       "<span class=\"tex2jax_ignore\"><!DOCTYPE html>\n",
       "<html lang=\"en\">\n",
       "    <head>\n",
       "        <title>displaCy</title>\n",
       "    </head>\n",
       "\n",
       "    <body style=\"font-size: 16px; font-family: -apple-system, BlinkMacSystemFont, 'Segoe UI', Helvetica, Arial, sans-serif, 'Apple Color Emoji', 'Segoe UI Emoji', 'Segoe UI Symbol'; padding: 4rem 2rem; direction: ltr\">\n",
       "<figure style=\"margin-bottom: 6rem\">\n",
       "<div class=\"entities\" style=\"line-height: 2.5; direction: ltr\">A \n",
       "<mark class=\"entity\" style=\"background: #ddd; padding: 0.45em 0.6em; margin: 0 0.25em; line-height: 1; border-radius: 0.35em;\">\n",
       "    vegan salad\n",
       "    <span style=\"font-size: 0.8em; font-weight: bold; line-height: 1; border-radius: 0.35em; vertical-align: middle; margin-left: 0.5rem\">FOOD</span>\n",
       "</mark>\n",
       " from \n",
       "<mark class=\"entity\" style=\"background: #ddd; padding: 0.45em 0.6em; margin: 0 0.25em; line-height: 1; border-radius: 0.35em;\">\n",
       "    continente\n",
       "    <span style=\"font-size: 0.8em; font-weight: bold; line-height: 1; border-radius: 0.35em; vertical-align: middle; margin-left: 0.5rem\">FOOD</span>\n",
       "</mark>\n",
       " and a \n",
       "<mark class=\"entity\" style=\"background: #ddd; padding: 0.45em 0.6em; margin: 0 0.25em; line-height: 1; border-radius: 0.35em;\">\n",
       "    black\n",
       "    <span style=\"font-size: 0.8em; font-weight: bold; line-height: 1; border-radius: 0.35em; vertical-align: middle; margin-left: 0.5rem\">FOOD</span>\n",
       "</mark>\n",
       " \n",
       "<mark class=\"entity\" style=\"background: #ddd; padding: 0.45em 0.6em; margin: 0 0.25em; line-height: 1; border-radius: 0.35em;\">\n",
       "    tea\n",
       "    <span style=\"font-size: 0.8em; font-weight: bold; line-height: 1; border-radius: 0.35em; vertical-align: middle; margin-left: 0.5rem\">LIQUID</span>\n",
       "</mark>\n",
       "</div>\n",
       "</figure>\n",
       "</body>\n",
       "</html></span>"
      ],
      "text/plain": [
       "<IPython.core.display.HTML object>"
      ]
     },
     "metadata": {},
     "output_type": "display_data"
    },
    {
     "name": "stdout",
     "output_type": "stream",
     "text": [
      "\n",
      "Using the 'ent' visualizer\n",
      "Serving on http://0.0.0.0:8083 ...\n",
      "\n",
      "Shutting down server on port 8083.\n"
     ]
    }
   ],
   "source": [
    "from spacy import displacy\n",
    "\n",
    "doc = nlp('A vegan salad from continente and a black tea')\n",
    "displacy.serve(doc, style=\"ent\", port=8083)"
   ]
  },
  {
   "cell_type": "code",
   "execution_count": 11,
   "metadata": {},
   "outputs": [
    {
     "data": {
      "text/html": [
       "<span class=\"tex2jax_ignore\"><!DOCTYPE html>\n",
       "<html lang=\"en\">\n",
       "    <head>\n",
       "        <title>displaCy</title>\n",
       "    </head>\n",
       "\n",
       "    <body style=\"font-size: 16px; font-family: -apple-system, BlinkMacSystemFont, 'Segoe UI', Helvetica, Arial, sans-serif, 'Apple Color Emoji', 'Segoe UI Emoji', 'Segoe UI Symbol'; padding: 4rem 2rem; direction: ltr\">\n",
       "<figure style=\"margin-bottom: 6rem\">\n",
       "<div class=\"entities\" style=\"line-height: 2.5; direction: ltr\">A \n",
       "<mark class=\"entity\" style=\"background: #ddd; padding: 0.45em 0.6em; margin: 0 0.25em; line-height: 1; border-radius: 0.35em;\">\n",
       "    vegan salad\n",
       "    <span style=\"font-size: 0.8em; font-weight: bold; line-height: 1; border-radius: 0.35em; vertical-align: middle; margin-left: 0.5rem\">FOOD</span>\n",
       "</mark>\n",
       " from \n",
       "<mark class=\"entity\" style=\"background: #ddd; padding: 0.45em 0.6em; margin: 0 0.25em; line-height: 1; border-radius: 0.35em;\">\n",
       "    continente\n",
       "    <span style=\"font-size: 0.8em; font-weight: bold; line-height: 1; border-radius: 0.35em; vertical-align: middle; margin-left: 0.5rem\">FOOD</span>\n",
       "</mark>\n",
       " and \n",
       "<mark class=\"entity\" style=\"background: #ddd; padding: 0.45em 0.6em; margin: 0 0.25em; line-height: 1; border-radius: 0.35em;\">\n",
       "    drinking\n",
       "    <span style=\"font-size: 0.8em; font-weight: bold; line-height: 1; border-radius: 0.35em; vertical-align: middle; margin-left: 0.5rem\">FOOD</span>\n",
       "</mark>\n",
       " a Gatorade</div>\n",
       "</figure>\n",
       "</body>\n",
       "</html></span>"
      ],
      "text/plain": [
       "<IPython.core.display.HTML object>"
      ]
     },
     "metadata": {},
     "output_type": "display_data"
    },
    {
     "name": "stdout",
     "output_type": "stream",
     "text": [
      "\n",
      "Using the 'ent' visualizer\n",
      "Serving on http://0.0.0.0:8083 ...\n",
      "\n",
      "Shutting down server on port 8083.\n"
     ]
    }
   ],
   "source": [
    "from spacy import displacy\n",
    "\n",
    "doc = nlp('A vegan salad from continente and drinking a Gatorade')\n",
    "displacy.serve(doc, style=\"ent\", port=8083)"
   ]
  },
  {
   "cell_type": "code",
   "execution_count": 46,
   "metadata": {},
   "outputs": [
    {
     "name": "stdout",
     "output_type": "stream",
     "text": [
      "Entities [('Wonder chunks chicken', 'FOOD'), ('185', 'QUANTITY'), ('g', 'UNIT'), ('1tbsp', 'QUANTITY'), ('oil', 'FOOD'), ('All', 'UNIT'), ('pan-fried vegetables Asian style', 'FOOD'), ('250', 'QUANTITY'), ('g', 'UNIT')]\n"
     ]
    }
   ],
   "source": [
    "doc = nlp('Wonder chunks chicken style 185g, 1tbsp oil, All Seasons pan-fried vegetables Asian style approx 250g')\n",
    "print('Entities', [(ent.text, ent.label_) for ent in doc.ents])"
   ]
  }
 ],
 "metadata": {
  "kernelspec": {
   "display_name": "smart_food_diary",
   "language": "python",
   "name": "python3"
  },
  "language_info": {
   "codemirror_mode": {
    "name": "ipython",
    "version": 3
   },
   "file_extension": ".py",
   "mimetype": "text/x-python",
   "name": "python",
   "nbconvert_exporter": "python",
   "pygments_lexer": "ipython3",
   "version": "3.10.6"
  }
 },
 "nbformat": 4,
 "nbformat_minor": 2
}
