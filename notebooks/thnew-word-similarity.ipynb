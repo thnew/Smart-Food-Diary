{
 "cells": [
  {
   "cell_type": "code",
   "execution_count": 2,
   "metadata": {},
   "outputs": [
    {
     "name": "stdout",
     "output_type": "stream",
     "text": [
      "Requirement already satisfied: spacy in /Users/thomasheigl/.pyenv/versions/3.10.6/envs/smart_food_diary/lib/python3.10/site-packages (3.7.4)\n",
      "Requirement already satisfied: spacy-legacy<3.1.0,>=3.0.11 in /Users/thomasheigl/.pyenv/versions/3.10.6/envs/smart_food_diary/lib/python3.10/site-packages (from spacy) (3.0.12)\n",
      "Requirement already satisfied: spacy-loggers<2.0.0,>=1.0.0 in /Users/thomasheigl/.pyenv/versions/3.10.6/envs/smart_food_diary/lib/python3.10/site-packages (from spacy) (1.0.5)\n",
      "Requirement already satisfied: murmurhash<1.1.0,>=0.28.0 in /Users/thomasheigl/.pyenv/versions/3.10.6/envs/smart_food_diary/lib/python3.10/site-packages (from spacy) (1.0.10)\n",
      "Requirement already satisfied: cymem<2.1.0,>=2.0.2 in /Users/thomasheigl/.pyenv/versions/3.10.6/envs/smart_food_diary/lib/python3.10/site-packages (from spacy) (2.0.8)\n",
      "Requirement already satisfied: preshed<3.1.0,>=3.0.2 in /Users/thomasheigl/.pyenv/versions/3.10.6/envs/smart_food_diary/lib/python3.10/site-packages (from spacy) (3.0.9)\n",
      "Requirement already satisfied: thinc<8.3.0,>=8.2.2 in /Users/thomasheigl/.pyenv/versions/3.10.6/envs/smart_food_diary/lib/python3.10/site-packages (from spacy) (8.2.3)\n",
      "Requirement already satisfied: wasabi<1.2.0,>=0.9.1 in /Users/thomasheigl/.pyenv/versions/3.10.6/envs/smart_food_diary/lib/python3.10/site-packages (from spacy) (1.1.2)\n",
      "Requirement already satisfied: srsly<3.0.0,>=2.4.3 in /Users/thomasheigl/.pyenv/versions/3.10.6/envs/smart_food_diary/lib/python3.10/site-packages (from spacy) (2.4.8)\n",
      "Requirement already satisfied: catalogue<2.1.0,>=2.0.6 in /Users/thomasheigl/.pyenv/versions/3.10.6/envs/smart_food_diary/lib/python3.10/site-packages (from spacy) (2.0.10)\n",
      "Requirement already satisfied: weasel<0.4.0,>=0.1.0 in /Users/thomasheigl/.pyenv/versions/3.10.6/envs/smart_food_diary/lib/python3.10/site-packages (from spacy) (0.3.4)\n",
      "Requirement already satisfied: typer<0.10.0,>=0.3.0 in /Users/thomasheigl/.pyenv/versions/3.10.6/envs/smart_food_diary/lib/python3.10/site-packages (from spacy) (0.9.0)\n",
      "Requirement already satisfied: smart-open<7.0.0,>=5.2.1 in /Users/thomasheigl/.pyenv/versions/3.10.6/envs/smart_food_diary/lib/python3.10/site-packages (from spacy) (6.4.0)\n",
      "Requirement already satisfied: tqdm<5.0.0,>=4.38.0 in /Users/thomasheigl/.pyenv/versions/3.10.6/envs/smart_food_diary/lib/python3.10/site-packages (from spacy) (4.66.2)\n",
      "Requirement already satisfied: requests<3.0.0,>=2.13.0 in /Users/thomasheigl/.pyenv/versions/3.10.6/envs/smart_food_diary/lib/python3.10/site-packages (from spacy) (2.31.0)\n",
      "Requirement already satisfied: pydantic!=1.8,!=1.8.1,<3.0.0,>=1.7.4 in /Users/thomasheigl/.pyenv/versions/3.10.6/envs/smart_food_diary/lib/python3.10/site-packages (from spacy) (2.6.3)\n",
      "Requirement already satisfied: jinja2 in /Users/thomasheigl/.pyenv/versions/3.10.6/envs/smart_food_diary/lib/python3.10/site-packages (from spacy) (3.1.3)\n",
      "Requirement already satisfied: setuptools in /Users/thomasheigl/.pyenv/versions/3.10.6/envs/smart_food_diary/lib/python3.10/site-packages (from spacy) (63.2.0)\n",
      "Requirement already satisfied: packaging>=20.0 in /Users/thomasheigl/.pyenv/versions/3.10.6/envs/smart_food_diary/lib/python3.10/site-packages (from spacy) (23.2)\n",
      "Requirement already satisfied: langcodes<4.0.0,>=3.2.0 in /Users/thomasheigl/.pyenv/versions/3.10.6/envs/smart_food_diary/lib/python3.10/site-packages (from spacy) (3.3.0)\n",
      "Requirement already satisfied: numpy>=1.19.0 in /Users/thomasheigl/.pyenv/versions/3.10.6/envs/smart_food_diary/lib/python3.10/site-packages (from spacy) (1.26.4)\n",
      "Requirement already satisfied: annotated-types>=0.4.0 in /Users/thomasheigl/.pyenv/versions/3.10.6/envs/smart_food_diary/lib/python3.10/site-packages (from pydantic!=1.8,!=1.8.1,<3.0.0,>=1.7.4->spacy) (0.6.0)\n",
      "Requirement already satisfied: pydantic-core==2.16.3 in /Users/thomasheigl/.pyenv/versions/3.10.6/envs/smart_food_diary/lib/python3.10/site-packages (from pydantic!=1.8,!=1.8.1,<3.0.0,>=1.7.4->spacy) (2.16.3)\n",
      "Requirement already satisfied: typing-extensions>=4.6.1 in /Users/thomasheigl/.pyenv/versions/3.10.6/envs/smart_food_diary/lib/python3.10/site-packages (from pydantic!=1.8,!=1.8.1,<3.0.0,>=1.7.4->spacy) (4.10.0)\n",
      "Requirement already satisfied: charset-normalizer<4,>=2 in /Users/thomasheigl/.pyenv/versions/3.10.6/envs/smart_food_diary/lib/python3.10/site-packages (from requests<3.0.0,>=2.13.0->spacy) (3.3.2)\n",
      "Requirement already satisfied: idna<4,>=2.5 in /Users/thomasheigl/.pyenv/versions/3.10.6/envs/smart_food_diary/lib/python3.10/site-packages (from requests<3.0.0,>=2.13.0->spacy) (2.10)\n",
      "Requirement already satisfied: urllib3<3,>=1.21.1 in /Users/thomasheigl/.pyenv/versions/3.10.6/envs/smart_food_diary/lib/python3.10/site-packages (from requests<3.0.0,>=2.13.0->spacy) (2.2.1)\n",
      "Requirement already satisfied: certifi>=2017.4.17 in /Users/thomasheigl/.pyenv/versions/3.10.6/envs/smart_food_diary/lib/python3.10/site-packages (from requests<3.0.0,>=2.13.0->spacy) (2024.2.2)\n",
      "Requirement already satisfied: blis<0.8.0,>=0.7.8 in /Users/thomasheigl/.pyenv/versions/3.10.6/envs/smart_food_diary/lib/python3.10/site-packages (from thinc<8.3.0,>=8.2.2->spacy) (0.7.11)\n",
      "Requirement already satisfied: confection<1.0.0,>=0.0.1 in /Users/thomasheigl/.pyenv/versions/3.10.6/envs/smart_food_diary/lib/python3.10/site-packages (from thinc<8.3.0,>=8.2.2->spacy) (0.1.4)\n",
      "Requirement already satisfied: click<9.0.0,>=7.1.1 in /Users/thomasheigl/.pyenv/versions/3.10.6/envs/smart_food_diary/lib/python3.10/site-packages (from typer<0.10.0,>=0.3.0->spacy) (8.1.7)\n",
      "Requirement already satisfied: cloudpathlib<0.17.0,>=0.7.0 in /Users/thomasheigl/.pyenv/versions/3.10.6/envs/smart_food_diary/lib/python3.10/site-packages (from weasel<0.4.0,>=0.1.0->spacy) (0.16.0)\n",
      "Requirement already satisfied: MarkupSafe>=2.0 in /Users/thomasheigl/.pyenv/versions/3.10.6/envs/smart_food_diary/lib/python3.10/site-packages (from jinja2->spacy) (2.1.5)\n",
      "Note: you may need to restart the kernel to use updated packages.\n",
      "/Users/thomasheigl/.pyenv/versions/3.10.6/envs/smart_food_diary/lib/python3.10/site-packages/transformers/utils/generic.py:441: UserWarning: torch.utils._pytree._register_pytree_node is deprecated. Please use torch.utils._pytree.register_pytree_node instead.\n",
      "  _torch_pytree._register_pytree_node(\n",
      "Collecting en-core-web-lg==3.7.1\n",
      "  Downloading https://github.com/explosion/spacy-models/releases/download/en_core_web_lg-3.7.1/en_core_web_lg-3.7.1-py3-none-any.whl (587.7 MB)\n",
      "\u001b[2K     \u001b[90m━━━━━━━━━━━━━━━━━━━━━━━━━━━━━━━━━━━━━━━\u001b[0m \u001b[32m587.7/587.7 MB\u001b[0m \u001b[31m5.1 MB/s\u001b[0m eta \u001b[36m0:00:00\u001b[0m00:01\u001b[0m00:01\u001b[0m\n",
      "\u001b[?25hRequirement already satisfied: spacy<3.8.0,>=3.7.2 in /Users/thomasheigl/.pyenv/versions/3.10.6/envs/smart_food_diary/lib/python3.10/site-packages (from en-core-web-lg==3.7.1) (3.7.4)\n",
      "Requirement already satisfied: spacy-legacy<3.1.0,>=3.0.11 in /Users/thomasheigl/.pyenv/versions/3.10.6/envs/smart_food_diary/lib/python3.10/site-packages (from spacy<3.8.0,>=3.7.2->en-core-web-lg==3.7.1) (3.0.12)\n",
      "Requirement already satisfied: spacy-loggers<2.0.0,>=1.0.0 in /Users/thomasheigl/.pyenv/versions/3.10.6/envs/smart_food_diary/lib/python3.10/site-packages (from spacy<3.8.0,>=3.7.2->en-core-web-lg==3.7.1) (1.0.5)\n",
      "Requirement already satisfied: murmurhash<1.1.0,>=0.28.0 in /Users/thomasheigl/.pyenv/versions/3.10.6/envs/smart_food_diary/lib/python3.10/site-packages (from spacy<3.8.0,>=3.7.2->en-core-web-lg==3.7.1) (1.0.10)\n",
      "Requirement already satisfied: cymem<2.1.0,>=2.0.2 in /Users/thomasheigl/.pyenv/versions/3.10.6/envs/smart_food_diary/lib/python3.10/site-packages (from spacy<3.8.0,>=3.7.2->en-core-web-lg==3.7.1) (2.0.8)\n",
      "Requirement already satisfied: preshed<3.1.0,>=3.0.2 in /Users/thomasheigl/.pyenv/versions/3.10.6/envs/smart_food_diary/lib/python3.10/site-packages (from spacy<3.8.0,>=3.7.2->en-core-web-lg==3.7.1) (3.0.9)\n",
      "Requirement already satisfied: thinc<8.3.0,>=8.2.2 in /Users/thomasheigl/.pyenv/versions/3.10.6/envs/smart_food_diary/lib/python3.10/site-packages (from spacy<3.8.0,>=3.7.2->en-core-web-lg==3.7.1) (8.2.3)\n",
      "Requirement already satisfied: wasabi<1.2.0,>=0.9.1 in /Users/thomasheigl/.pyenv/versions/3.10.6/envs/smart_food_diary/lib/python3.10/site-packages (from spacy<3.8.0,>=3.7.2->en-core-web-lg==3.7.1) (1.1.2)\n",
      "Requirement already satisfied: srsly<3.0.0,>=2.4.3 in /Users/thomasheigl/.pyenv/versions/3.10.6/envs/smart_food_diary/lib/python3.10/site-packages (from spacy<3.8.0,>=3.7.2->en-core-web-lg==3.7.1) (2.4.8)\n",
      "Requirement already satisfied: catalogue<2.1.0,>=2.0.6 in /Users/thomasheigl/.pyenv/versions/3.10.6/envs/smart_food_diary/lib/python3.10/site-packages (from spacy<3.8.0,>=3.7.2->en-core-web-lg==3.7.1) (2.0.10)\n",
      "Requirement already satisfied: weasel<0.4.0,>=0.1.0 in /Users/thomasheigl/.pyenv/versions/3.10.6/envs/smart_food_diary/lib/python3.10/site-packages (from spacy<3.8.0,>=3.7.2->en-core-web-lg==3.7.1) (0.3.4)\n",
      "Requirement already satisfied: typer<0.10.0,>=0.3.0 in /Users/thomasheigl/.pyenv/versions/3.10.6/envs/smart_food_diary/lib/python3.10/site-packages (from spacy<3.8.0,>=3.7.2->en-core-web-lg==3.7.1) (0.9.0)\n",
      "Requirement already satisfied: smart-open<7.0.0,>=5.2.1 in /Users/thomasheigl/.pyenv/versions/3.10.6/envs/smart_food_diary/lib/python3.10/site-packages (from spacy<3.8.0,>=3.7.2->en-core-web-lg==3.7.1) (6.4.0)\n",
      "Requirement already satisfied: tqdm<5.0.0,>=4.38.0 in /Users/thomasheigl/.pyenv/versions/3.10.6/envs/smart_food_diary/lib/python3.10/site-packages (from spacy<3.8.0,>=3.7.2->en-core-web-lg==3.7.1) (4.66.2)\n",
      "Requirement already satisfied: requests<3.0.0,>=2.13.0 in /Users/thomasheigl/.pyenv/versions/3.10.6/envs/smart_food_diary/lib/python3.10/site-packages (from spacy<3.8.0,>=3.7.2->en-core-web-lg==3.7.1) (2.31.0)\n",
      "Requirement already satisfied: pydantic!=1.8,!=1.8.1,<3.0.0,>=1.7.4 in /Users/thomasheigl/.pyenv/versions/3.10.6/envs/smart_food_diary/lib/python3.10/site-packages (from spacy<3.8.0,>=3.7.2->en-core-web-lg==3.7.1) (2.6.3)\n",
      "Requirement already satisfied: jinja2 in /Users/thomasheigl/.pyenv/versions/3.10.6/envs/smart_food_diary/lib/python3.10/site-packages (from spacy<3.8.0,>=3.7.2->en-core-web-lg==3.7.1) (3.1.3)\n",
      "Requirement already satisfied: setuptools in /Users/thomasheigl/.pyenv/versions/3.10.6/envs/smart_food_diary/lib/python3.10/site-packages (from spacy<3.8.0,>=3.7.2->en-core-web-lg==3.7.1) (63.2.0)\n",
      "Requirement already satisfied: packaging>=20.0 in /Users/thomasheigl/.pyenv/versions/3.10.6/envs/smart_food_diary/lib/python3.10/site-packages (from spacy<3.8.0,>=3.7.2->en-core-web-lg==3.7.1) (23.2)\n",
      "Requirement already satisfied: langcodes<4.0.0,>=3.2.0 in /Users/thomasheigl/.pyenv/versions/3.10.6/envs/smart_food_diary/lib/python3.10/site-packages (from spacy<3.8.0,>=3.7.2->en-core-web-lg==3.7.1) (3.3.0)\n",
      "Requirement already satisfied: numpy>=1.19.0 in /Users/thomasheigl/.pyenv/versions/3.10.6/envs/smart_food_diary/lib/python3.10/site-packages (from spacy<3.8.0,>=3.7.2->en-core-web-lg==3.7.1) (1.26.4)\n",
      "Requirement already satisfied: annotated-types>=0.4.0 in /Users/thomasheigl/.pyenv/versions/3.10.6/envs/smart_food_diary/lib/python3.10/site-packages (from pydantic!=1.8,!=1.8.1,<3.0.0,>=1.7.4->spacy<3.8.0,>=3.7.2->en-core-web-lg==3.7.1) (0.6.0)\n",
      "Requirement already satisfied: pydantic-core==2.16.3 in /Users/thomasheigl/.pyenv/versions/3.10.6/envs/smart_food_diary/lib/python3.10/site-packages (from pydantic!=1.8,!=1.8.1,<3.0.0,>=1.7.4->spacy<3.8.0,>=3.7.2->en-core-web-lg==3.7.1) (2.16.3)\n",
      "Requirement already satisfied: typing-extensions>=4.6.1 in /Users/thomasheigl/.pyenv/versions/3.10.6/envs/smart_food_diary/lib/python3.10/site-packages (from pydantic!=1.8,!=1.8.1,<3.0.0,>=1.7.4->spacy<3.8.0,>=3.7.2->en-core-web-lg==3.7.1) (4.10.0)\n",
      "Requirement already satisfied: charset-normalizer<4,>=2 in /Users/thomasheigl/.pyenv/versions/3.10.6/envs/smart_food_diary/lib/python3.10/site-packages (from requests<3.0.0,>=2.13.0->spacy<3.8.0,>=3.7.2->en-core-web-lg==3.7.1) (3.3.2)\n",
      "Requirement already satisfied: idna<4,>=2.5 in /Users/thomasheigl/.pyenv/versions/3.10.6/envs/smart_food_diary/lib/python3.10/site-packages (from requests<3.0.0,>=2.13.0->spacy<3.8.0,>=3.7.2->en-core-web-lg==3.7.1) (2.10)\n",
      "Requirement already satisfied: urllib3<3,>=1.21.1 in /Users/thomasheigl/.pyenv/versions/3.10.6/envs/smart_food_diary/lib/python3.10/site-packages (from requests<3.0.0,>=2.13.0->spacy<3.8.0,>=3.7.2->en-core-web-lg==3.7.1) (2.2.1)\n",
      "Requirement already satisfied: certifi>=2017.4.17 in /Users/thomasheigl/.pyenv/versions/3.10.6/envs/smart_food_diary/lib/python3.10/site-packages (from requests<3.0.0,>=2.13.0->spacy<3.8.0,>=3.7.2->en-core-web-lg==3.7.1) (2024.2.2)\n",
      "Requirement already satisfied: blis<0.8.0,>=0.7.8 in /Users/thomasheigl/.pyenv/versions/3.10.6/envs/smart_food_diary/lib/python3.10/site-packages (from thinc<8.3.0,>=8.2.2->spacy<3.8.0,>=3.7.2->en-core-web-lg==3.7.1) (0.7.11)\n",
      "Requirement already satisfied: confection<1.0.0,>=0.0.1 in /Users/thomasheigl/.pyenv/versions/3.10.6/envs/smart_food_diary/lib/python3.10/site-packages (from thinc<8.3.0,>=8.2.2->spacy<3.8.0,>=3.7.2->en-core-web-lg==3.7.1) (0.1.4)\n",
      "Requirement already satisfied: click<9.0.0,>=7.1.1 in /Users/thomasheigl/.pyenv/versions/3.10.6/envs/smart_food_diary/lib/python3.10/site-packages (from typer<0.10.0,>=0.3.0->spacy<3.8.0,>=3.7.2->en-core-web-lg==3.7.1) (8.1.7)\n",
      "Requirement already satisfied: cloudpathlib<0.17.0,>=0.7.0 in /Users/thomasheigl/.pyenv/versions/3.10.6/envs/smart_food_diary/lib/python3.10/site-packages (from weasel<0.4.0,>=0.1.0->spacy<3.8.0,>=3.7.2->en-core-web-lg==3.7.1) (0.16.0)\n",
      "Requirement already satisfied: MarkupSafe>=2.0 in /Users/thomasheigl/.pyenv/versions/3.10.6/envs/smart_food_diary/lib/python3.10/site-packages (from jinja2->spacy<3.8.0,>=3.7.2->en-core-web-lg==3.7.1) (2.1.5)\n",
      "Installing collected packages: en-core-web-lg\n",
      "Successfully installed en-core-web-lg-3.7.1\n",
      "\u001b[38;5;2m✔ Download and installation successful\u001b[0m\n",
      "You can now load the package via spacy.load('en_core_web_lg')\n"
     ]
    }
   ],
   "source": [
    "%pip install -U spacy\n",
    "!python -m spacy download en_core_web_lg"
   ]
  },
  {
   "cell_type": "code",
   "execution_count": 2,
   "metadata": {},
   "outputs": [
    {
     "name": "stderr",
     "output_type": "stream",
     "text": [
      "/Users/thomasheigl/.pyenv/versions/3.10.6/envs/smart_food_diary/lib/python3.10/site-packages/tqdm/auto.py:21: TqdmWarning: IProgress not found. Please update jupyter and ipywidgets. See https://ipywidgets.readthedocs.io/en/stable/user_install.html\n",
      "  from .autonotebook import tqdm as notebook_tqdm\n",
      "/Users/thomasheigl/.pyenv/versions/3.10.6/envs/smart_food_diary/lib/python3.10/site-packages/transformers/utils/generic.py:441: UserWarning: torch.utils._pytree._register_pytree_node is deprecated. Please use torch.utils._pytree.register_pytree_node instead.\n",
      "  _torch_pytree._register_pytree_node(\n",
      "/Users/thomasheigl/.pyenv/versions/3.10.6/envs/smart_food_diary/lib/python3.10/site-packages/transformers/utils/generic.py:309: UserWarning: torch.utils._pytree._register_pytree_node is deprecated. Please use torch.utils._pytree.register_pytree_node instead.\n",
      "  _torch_pytree._register_pytree_node(\n"
     ]
    }
   ],
   "source": [
    "import spacy\n",
    "\n",
    "nlp = spacy.load('en_core_web_lg')"
   ]
  },
  {
   "cell_type": "code",
   "execution_count": 3,
   "metadata": {},
   "outputs": [
    {
     "data": {
      "text/plain": [
       "-0.002288245363160968"
      ]
     },
     "execution_count": 3,
     "metadata": {},
     "output_type": "execute_result"
    }
   ],
   "source": [
    "nlp.vocab['Burger'].similarity(nlp.vocab['stone'])"
   ]
  },
  {
   "cell_type": "code",
   "execution_count": 89,
   "metadata": {},
   "outputs": [
    {
     "data": {
      "text/plain": [
       "0.45575466752052307"
      ]
     },
     "execution_count": 89,
     "metadata": {},
     "output_type": "execute_result"
    }
   ],
   "source": [
    "nlp.vocab['Burger'].similarity(nlp.vocab['sandwich'])"
   ]
  },
  {
   "cell_type": "code",
   "execution_count": 5,
   "metadata": {},
   "outputs": [
    {
     "data": {
      "text/plain": [
       "0.6763531565666199"
      ]
     },
     "execution_count": 5,
     "metadata": {},
     "output_type": "execute_result"
    }
   ],
   "source": [
    "nlp.vocab['salad'].similarity(nlp.vocab['tomato'])"
   ]
  },
  {
   "cell_type": "code",
   "execution_count": 11,
   "metadata": {},
   "outputs": [
    {
     "name": "stderr",
     "output_type": "stream",
     "text": [
      "/var/folders/yn/kx4gh2414_q2phcdl6vwqdh40000gn/T/ipykernel_20115/1509192265.py:1: UserWarning: [W008] Evaluating Lexeme.similarity based on empty vectors.\n",
      "  nlp.vocab['Burger'].similarity(nlp.vocab['McDonalds McFilet'])\n"
     ]
    },
    {
     "data": {
      "text/plain": [
       "0.0"
      ]
     },
     "execution_count": 11,
     "metadata": {},
     "output_type": "execute_result"
    }
   ],
   "source": [
    "nlp.vocab['Burger'].similarity(nlp.vocab['McDonalds McFilet'])"
   ]
  },
  {
   "cell_type": "markdown",
   "metadata": {},
   "source": [
    "## Problem: Spacy won't find a vector for words that are not in the dict yet"
   ]
  },
  {
   "cell_type": "markdown",
   "metadata": {},
   "source": [
    "# Here's a non AI approach"
   ]
  },
  {
   "cell_type": "code",
   "execution_count": 78,
   "metadata": {},
   "outputs": [],
   "source": [
    "import pandas as pd\n",
    "\n",
    "food_names = pd.read_csv('../data/food_names.csv')['title'].str.lower().to_list()"
   ]
  },
  {
   "cell_type": "code",
   "execution_count": 85,
   "metadata": {},
   "outputs": [
    {
     "data": {
      "text/plain": [
       "[{'title': 'mashed potatoes with cheddar', 'similarity': 0.7},\n",
       " {'title': 'mashed potatoes, baby reds', 'similarity': 0.6896551724137931},\n",
       " {'title': 'mashed potatoes, instant', 'similarity': 0.6785714285714286}]"
      ]
     },
     "execution_count": 85,
     "metadata": {},
     "output_type": "execute_result"
    }
   ],
   "source": [
    "import difflib\n",
    "from difflib import SequenceMatcher\n",
    "\n",
    "def closest_matches(meal_name: str):\n",
    "    def similar(a, b):\n",
    "        return SequenceMatcher(None, a, b).ratio()\n",
    "\n",
    "    matches = difflib.get_close_matches(meal_name, food_names)\n",
    "\n",
    "    if len(matches) == 0:\n",
    "        return None\n",
    "\n",
    "    return [{ 'title': x, 'similarity': similar(x, meal_name) } for x in matches]\n",
    "\n",
    "#[{ 'title': x, 'similarity': similar(x, meal_name) } for x in matches]\n",
    "closest_matches(\"mashed potatoes and fish fingers\")"
   ]
  },
  {
   "cell_type": "markdown",
   "metadata": {},
   "source": [
    "# Teasting on all food from the food diaries"
   ]
  },
  {
   "cell_type": "code",
   "execution_count": 80,
   "metadata": {},
   "outputs": [],
   "source": [
    "import json\n",
    "\n",
    "def load_data(path):\n",
    "    with open(path, 'r') as f:\n",
    "        data = json.load(f)\n",
    "    return data\n",
    "\n",
    "json = load_data(\"../data/food-diary-examples-classified.json\")\n",
    "data = [x for x in json['annotations'] if x is not None]\n",
    "\n",
    "# Read the food out of the json data\n",
    "diary_entries = []\n",
    "for x in data:\n",
    "    title = x[0]\n",
    "    entities = x[1]['entities']\n",
    "\n",
    "    relevant = [(y[0], y[1]) for y in entities if y[2] in ['FOOD', 'LIQUID']]\n",
    "    meal_names = [title[x[0]:x[1]].lower() for x in relevant]\n",
    "\n",
    "    diary_entries.extend(meal_names)\n",
    "\n",
    "diary_entries = list(set(diary_entries))"
   ]
  },
  {
   "cell_type": "code",
   "execution_count": 82,
   "metadata": {},
   "outputs": [
    {
     "data": {
      "text/plain": [
       "[('veganz protein choc bar chocolate brownie style',\n",
       "  [{'title': 'protein plus bar, chocolate brownie',\n",
       "    'similarity': 0.7317073170731707},\n",
       "   {'title': 'protein plus bar, chocolate brownie',\n",
       "    'similarity': 0.7317073170731707},\n",
       "   {'title': 'lean protein & fiber bar, chocolate almond brownie',\n",
       "    'similarity': 0.7010309278350515}]),\n",
       " ('egg',\n",
       "  [{'title': 'egg', 'similarity': 1.0},\n",
       "   {'title': 'egg', 'similarity': 1.0},\n",
       "   {'title': 'eggs', 'similarity': 0.8571428571428571}]),\n",
       " ('spaghetti pizza with cheese',\n",
       "  [{'title': 'spaghetti sauce, three cheese', 'similarity': 0.75},\n",
       "   {'title': 'organic spaghetti with cheese', 'similarity': 0.75},\n",
       "   {'title': 'spam with cheese', 'similarity': 0.6976744186046512}]),\n",
       " ('fried egg',\n",
       "  [{'title': 'fried eggplant', 'similarity': 0.782608695652174},\n",
       "   {'title': 'gummy fried eggs', 'similarity': 0.72},\n",
       "   {'title': 'gummi fried eggs', 'similarity': 0.72}]),\n",
       " ('cherry peppers with cream cheese filling',\n",
       "  [{'title': 'cupcakes with cream cheese filling',\n",
       "    'similarity': 0.8108108108108109},\n",
       "   {'title': 'cupcake with cream cheese filling',\n",
       "    'similarity': 0.7945205479452054},\n",
       "   {'title': 'cucumber + peppers with cream cheese dip',\n",
       "    'similarity': 0.775}]),\n",
       " ('pizza rolls with ham',\n",
       "  [{'title': 'pizza proscuitto ', 'similarity': 0.6486486486486487},\n",
       "   {'title': 'pizza roll-ups', 'similarity': 0.6470588235294118},\n",
       "   {'title': 'cinnamon rolls with raisins',\n",
       "    'similarity': 0.6382978723404256}]),\n",
       " ('tofu sushi',\n",
       "  [{'title': 'soy sushi', 'similarity': 0.7368421052631579},\n",
       "   {'title': 'kit sushi', 'similarity': 0.7368421052631579},\n",
       "   {'title': '5 sushi', 'similarity': 0.7058823529411765}]),\n",
       " ('roll',\n",
       "  [{'title': 'roll', 'similarity': 1.0},\n",
       "   {'title': 'roll', 'similarity': 1.0},\n",
       "   {'title': 'roll', 'similarity': 1.0}]),\n",
       " ('tomato cheese egg',\n",
       "  [{'title': 'romano cheese wedge', 'similarity': 0.7777777777777778},\n",
       "   {'title': 'goat cheese ', 'similarity': 0.7586206896551724},\n",
       "   {'title': 'goat cheese log', 'similarity': 0.75}]),\n",
       " ('sparkling water',\n",
       "  [{'title': 'sparkling water', 'similarity': 1.0},\n",
       "   {'title': 'sparkling water', 'similarity': 1.0},\n",
       "   {'title': 'sparkling water', 'similarity': 1.0}]),\n",
       " ('alpro oat yoghurt',\n",
       "  [{'title': 'low fat yogurt', 'similarity': 0.7741935483870968},\n",
       "   {'title': 'low fat yogurt', 'similarity': 0.7741935483870968},\n",
       "   {'title': 'low fat yogurt', 'similarity': 0.7741935483870968}]),\n",
       " ('rice chicken',\n",
       "  [{'title': 'garlic chicken', 'similarity': 0.8461538461538461},\n",
       "   {'title': 'garlic chicken', 'similarity': 0.8461538461538461},\n",
       "   {'title': 'garlic chicken', 'similarity': 0.8461538461538461}]),\n",
       " ('chocolate cookies',\n",
       "  [{'title': 'chocolate cookies', 'similarity': 1.0},\n",
       "   {'title': 'chocolate cookies', 'similarity': 1.0},\n",
       "   {'title': 'chocolate cookies', 'similarity': 1.0}]),\n",
       " ('oat flakes',\n",
       "  [{'title': 'oat flakes', 'similarity': 1.0},\n",
       "   {'title': 'oat flakes', 'similarity': 1.0},\n",
       "   {'title': 'oatflakes', 'similarity': 0.9473684210526315}]),\n",
       " ('strawberry roll',\n",
       "  [{'title': 'strawberry roll', 'similarity': 1.0},\n",
       "   {'title': 'strawberry swirl', 'similarity': 0.8387096774193549},\n",
       "   {'title': 'strawberry jelly', 'similarity': 0.8387096774193549}])]"
      ]
     },
     "execution_count": 82,
     "metadata": {},
     "output_type": "execute_result"
    }
   ],
   "source": [
    "[(meal_name, closest_matches(meal_name)) for meal_name in diary_entries[:15]]"
   ]
  }
 ],
 "metadata": {
  "kernelspec": {
   "display_name": "smart_food_diary",
   "language": "python",
   "name": "python3"
  },
  "language_info": {
   "codemirror_mode": {
    "name": "ipython",
    "version": 3
   },
   "file_extension": ".py",
   "mimetype": "text/x-python",
   "name": "python",
   "nbconvert_exporter": "python",
   "pygments_lexer": "ipython3",
   "version": "3.10.6"
  }
 },
 "nbformat": 4,
 "nbformat_minor": 2
}
