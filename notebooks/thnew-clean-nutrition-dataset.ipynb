{
 "cells": [
  {
   "cell_type": "code",
   "execution_count": 86,
   "metadata": {},
   "outputs": [],
   "source": [
    "import pandas as pd\n",
    "import numpy as np\n",
    "from nltk.tokenize import word_tokenize\n",
    "from nltk.corpus import stopwords\n",
    "from nltk.stem import WordNetLemmatizer"
   ]
  },
  {
   "cell_type": "code",
   "execution_count": 66,
   "metadata": {},
   "outputs": [
    {
     "data": {
      "text/html": [
       "<div>\n",
       "<style scoped>\n",
       "    .dataframe tbody tr th:only-of-type {\n",
       "        vertical-align: middle;\n",
       "    }\n",
       "\n",
       "    .dataframe tbody tr th {\n",
       "        vertical-align: top;\n",
       "    }\n",
       "\n",
       "    .dataframe thead th {\n",
       "        text-align: right;\n",
       "    }\n",
       "</style>\n",
       "<table border=\"1\" class=\"dataframe\">\n",
       "  <thead>\n",
       "    <tr style=\"text-align: right;\">\n",
       "      <th></th>\n",
       "      <th>Name</th>\n",
       "      <th>Meal</th>\n",
       "      <th>Brand</th>\n",
       "      <th>Calories</th>\n",
       "      <th>Fat</th>\n",
       "      <th>Carbs</th>\n",
       "      <th>Protein</th>\n",
       "      <th>Amount</th>\n",
       "      <th>Units</th>\n",
       "      <th>Cals Per Unit</th>\n",
       "    </tr>\n",
       "  </thead>\n",
       "  <tbody>\n",
       "    <tr>\n",
       "      <th>0</th>\n",
       "      <td>sbarro - spinach stromboli</td>\n",
       "      <td>spinach stromboli</td>\n",
       "      <td>sbarro</td>\n",
       "      <td>900</td>\n",
       "      <td>41.0</td>\n",
       "      <td>96.0</td>\n",
       "      <td>33</td>\n",
       "      <td>376.0</td>\n",
       "      <td>g</td>\n",
       "      <td>3.0</td>\n",
       "    </tr>\n",
       "    <tr>\n",
       "      <th>1</th>\n",
       "      <td>sbarro - caesar salad</td>\n",
       "      <td>caesar salad</td>\n",
       "      <td>sbarro</td>\n",
       "      <td>80</td>\n",
       "      <td>5.0</td>\n",
       "      <td>6.0</td>\n",
       "      <td>2</td>\n",
       "      <td>8.0</td>\n",
       "      <td>oz</td>\n",
       "      <td>10.0</td>\n",
       "    </tr>\n",
       "    <tr>\n",
       "      <th>2</th>\n",
       "      <td>papa johns - large, pepperoni and bacon, norma...</td>\n",
       "      <td>large, pepperoni and bacon, normal crust</td>\n",
       "      <td>papa johns</td>\n",
       "      <td>700</td>\n",
       "      <td>32.0</td>\n",
       "      <td>74.0</td>\n",
       "      <td>28</td>\n",
       "      <td>2.0</td>\n",
       "      <td>slice</td>\n",
       "      <td>350.0</td>\n",
       "    </tr>\n",
       "    <tr>\n",
       "      <th>3</th>\n",
       "      <td>papa johns - cheese sticks  per web site</td>\n",
       "      <td>cheese sticks  per web site</td>\n",
       "      <td>papa johns</td>\n",
       "      <td>185</td>\n",
       "      <td>8.0</td>\n",
       "      <td>21.0</td>\n",
       "      <td>7</td>\n",
       "      <td>2.0</td>\n",
       "      <td>sticks</td>\n",
       "      <td>93.0</td>\n",
       "    </tr>\n",
       "    <tr>\n",
       "      <th>4</th>\n",
       "      <td>papa johns - garlic dipping cup</td>\n",
       "      <td>garlic dipping cup</td>\n",
       "      <td>papa johns</td>\n",
       "      <td>75</td>\n",
       "      <td>9.0</td>\n",
       "      <td>0.0</td>\n",
       "      <td>0</td>\n",
       "      <td>0.5</td>\n",
       "      <td>cup</td>\n",
       "      <td>150.0</td>\n",
       "    </tr>\n",
       "  </tbody>\n",
       "</table>\n",
       "</div>"
      ],
      "text/plain": [
       "                                                Name  \\\n",
       "0                         sbarro - spinach stromboli   \n",
       "1                              sbarro - caesar salad   \n",
       "2  papa johns - large, pepperoni and bacon, norma...   \n",
       "3          papa johns - cheese sticks  per web site    \n",
       "4                    papa johns - garlic dipping cup   \n",
       "\n",
       "                                        Meal        Brand  Calories   Fat  \\\n",
       "0                          spinach stromboli      sbarro        900  41.0   \n",
       "1                               caesar salad      sbarro         80   5.0   \n",
       "2   large, pepperoni and bacon, normal crust  papa johns        700  32.0   \n",
       "3               cheese sticks  per web site   papa johns        185   8.0   \n",
       "4                         garlic dipping cup  papa johns         75   9.0   \n",
       "\n",
       "   Carbs  Protein  Amount   Units  Cals Per Unit  \n",
       "0   96.0       33   376.0       g            3.0  \n",
       "1    6.0        2     8.0      oz           10.0  \n",
       "2   74.0       28     2.0   slice          350.0  \n",
       "3   21.0        7     2.0  sticks           93.0  \n",
       "4    0.0        0     0.5     cup          150.0  "
      ]
     },
     "execution_count": 66,
     "metadata": {},
     "output_type": "execute_result"
    }
   ],
   "source": [
    "nutrition_dataset = pd.read_csv('../data/nutrition_dataset.csv')\n",
    "nutrition_dataset.head(5)"
   ]
  },
  {
   "cell_type": "code",
   "execution_count": 45,
   "metadata": {},
   "outputs": [
    {
     "data": {
      "text/plain": [
       "Name    sbarro - spinach stromboli\n",
       "Meal             spinach stromboli\n",
       "Name: 0, dtype: object"
      ]
     },
     "execution_count": 45,
     "metadata": {},
     "output_type": "execute_result"
    }
   ],
   "source": [
    "nutrition_dataset.iloc[0][['Name', 'Meal']]"
   ]
  },
  {
   "cell_type": "markdown",
   "metadata": {},
   "source": [
    "## Drop these with empty Name and empty Meal"
   ]
  },
  {
   "cell_type": "code",
   "execution_count": 67,
   "metadata": {},
   "outputs": [
    {
     "data": {
      "text/plain": [
       "'Before: 558917, After: 558826'"
      ]
     },
     "execution_count": 67,
     "metadata": {},
     "output_type": "execute_result"
    }
   ],
   "source": [
    "before = nutrition_dataset.shape[0]\n",
    "\n",
    "empty_name = nutrition_dataset['Name'].str.strip() == ''\n",
    "empty_meal = nutrition_dataset['Meal'].str.strip() == ''\n",
    "nutrition_dataset.loc[empty_name, 'Name'] = np.nan\n",
    "nutrition_dataset.loc[empty_meal, 'Meal'] = np.nan\n",
    "\n",
    "nutrition_dataset.dropna(subset=['Name', 'Meal'], how='all', inplace=True)\n",
    "\n",
    "f\"Before: {before}, After: {nutrition_dataset.shape[0]}\""
   ]
  },
  {
   "cell_type": "code",
   "execution_count": 69,
   "metadata": {},
   "outputs": [],
   "source": [
    "nutrition_dataset['Meal_cleaned'] = nutrition_dataset['Meal']"
   ]
  },
  {
   "cell_type": "markdown",
   "metadata": {},
   "source": [
    "## Impute empty Meal names"
   ]
  },
  {
   "cell_type": "code",
   "execution_count": 70,
   "metadata": {},
   "outputs": [
    {
     "name": "stdout",
     "output_type": "stream",
     "text": [
      "13246\n"
     ]
    }
   ],
   "source": [
    "empty_meals = nutrition_dataset['Meal_cleaned'].str.strip() == ''\n",
    "nutrition_dataset[empty_meals] = np.nan\n",
    "\n",
    "empty_meals = nutrition_dataset['Meal_cleaned'].isna()\n",
    "print(nutrition_dataset[empty_meals].shape[0])\n",
    "nutrition_dataset[empty_meals].head(5)\n",
    "\n",
    "nutrition_dataset.loc[empty_meals, 'Meal_cleaned'] = nutrition_dataset['Name']"
   ]
  },
  {
   "cell_type": "code",
   "execution_count": 71,
   "metadata": {},
   "outputs": [
    {
     "name": "stdout",
     "output_type": "stream",
     "text": [
      "0\n"
     ]
    }
   ],
   "source": [
    "# Any left empty meals?\n",
    "empty_meals = nutrition_dataset['Meal_cleaned'].isna()\n",
    "print(nutrition_dataset[empty_meals].shape[0])"
   ]
  },
  {
   "cell_type": "markdown",
   "metadata": {},
   "source": [
    "## Remove whitespaces and make to lower"
   ]
  },
  {
   "cell_type": "code",
   "execution_count": 74,
   "metadata": {},
   "outputs": [],
   "source": [
    "nutrition_dataset['Meal_cleaned'] = (nutrition_dataset['Meal_cleaned']\n",
    "    .str.strip()\n",
    "    .str.lower())"
   ]
  },
  {
   "cell_type": "markdown",
   "metadata": {},
   "source": [
    "## Remove stopwords"
   ]
  },
  {
   "cell_type": "code",
   "execution_count": 95,
   "metadata": {},
   "outputs": [
    {
     "name": "stdout",
     "output_type": "stream",
     "text": [
      "spinach stromboli\n",
      "['spinach', 'stromboli']\n",
      "['spinach', 'stromboli']\n",
      "['spinach', 'stromboli']\n",
      "spinach stromboli\n",
      "caesar salad\n",
      "['caesar', 'salad']\n",
      "['caesar', 'salad']\n",
      "['caesar', 'salad']\n",
      "caesar salad\n",
      "large, pepperoni and bacon, normal crust\n",
      "['large', ',', 'pepperoni', 'and', 'bacon', ',', 'normal', 'crust']\n",
      "['large', ',', 'pepperoni', 'bacon', ',', 'normal', 'crust']\n",
      "['large', ',', 'pepperoni', 'bacon', ',', 'normal', 'crust']\n",
      "large , pepperoni bacon , normal crust\n",
      "cheese sticks  per web site\n",
      "['cheese', 'sticks', 'per', 'web', 'site']\n",
      "['cheese', 'sticks', 'per', 'web', 'site']\n",
      "['cheese', 'stick', 'per', 'web', 'site']\n",
      "cheese stick per web site\n",
      "garlic dipping cup\n",
      "['garlic', 'dipping', 'cup']\n",
      "['garlic', 'dipping', 'cup']\n",
      "['garlic', 'dipping', 'cup']\n",
      "garlic dipping cup\n"
     ]
    }
   ],
   "source": [
    "stop_words = set(stopwords.words('english'))\n",
    "lemmatizer = WordNetLemmatizer()\n",
    "\n",
    "for i, row in nutrition_dataset.head(5).iterrows():\n",
    "    print(row['Meal_cleaned'])\n",
    "    # Separate by whitespaces, commas, dots, etc.\n",
    "    tokens = word_tokenize(row['Meal_cleaned'])\n",
    "    print(tokens)\n",
    "\n",
    "    # Remove stop words like \"the\", \"a\", \"an\", etc.\n",
    "    tokens = [w for w in tokens if w not in stop_words]\n",
    "    print(tokens)\n",
    "\n",
    "    # Lemmatize words by e.g. making \"burgers\" into \"burger\"\n",
    "    tokens = [lemmatizer.lemmatize(word, pos = \"n\") for word in tokens]\n",
    "    print(tokens)\n",
    "\n",
    "    # Put it all together again\n",
    "    nutrition_dataset.iloc[i, 'Meal_cleaned'] = ' '.join(tokens)\n",
    "    print(row['Meal_cleaned'])\n"
   ]
  },
  {
   "cell_type": "markdown",
   "metadata": {},
   "source": [
    "## Lemmatize (make words simpler)"
   ]
  }
 ],
 "metadata": {
  "kernelspec": {
   "display_name": "smart_food_diary",
   "language": "python",
   "name": "python3"
  },
  "language_info": {
   "codemirror_mode": {
    "name": "ipython",
    "version": 3
   },
   "file_extension": ".py",
   "mimetype": "text/x-python",
   "name": "python",
   "nbconvert_exporter": "python",
   "pygments_lexer": "ipython3",
   "version": "3.10.6"
  }
 },
 "nbformat": 4,
 "nbformat_minor": 2
}
