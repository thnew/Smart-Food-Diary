{
 "cells": [
  {
   "cell_type": "code",
   "execution_count": 2,
   "metadata": {},
   "outputs": [],
   "source": [
    "import pandas as pd\n",
    "import difflib\n",
    "from difflib import SequenceMatcher\n"
   ]
  },
  {
   "cell_type": "code",
   "execution_count": 5,
   "metadata": {},
   "outputs": [
    {
     "data": {
      "text/plain": [
       "'bla'"
      ]
     },
     "execution_count": 5,
     "metadata": {},
     "output_type": "execute_result"
    }
   ],
   "source": [
    "extracted_meals = pd.DataFrame({\n",
    "    'Meal': ['bla', 'milk'],\n",
    "    'Amount': ['1', '1'],\n",
    "    'Unit': ['piece', 'glass'],\n",
    "})\n",
    "\n",
    "extracted_meals.iloc[0]['Meal']"
   ]
  },
  {
   "cell_type": "code",
   "execution_count": 18,
   "metadata": {},
   "outputs": [
    {
     "data": {
      "text/plain": [
       "0"
      ]
     },
     "execution_count": 18,
     "metadata": {},
     "output_type": "execute_result"
    }
   ],
   "source": [
    "nutrition_dataset = pd.read_csv('../data/test_nutrition_dataset.csv')\n",
    "\n",
    "food_names = nutrition_dataset['Meal'].tolist()\n",
    "(nutrition_dataset['Meal'].str.len() == 0).sum()"
   ]
  },
  {
   "cell_type": "code",
   "execution_count": 12,
   "metadata": {},
   "outputs": [],
   "source": [
    "def closest_matches(meal_name: str):\n",
    "    def similar(a, b):\n",
    "        return SequenceMatcher(None, a, b).ratio()\n",
    "\n",
    "    matches = difflib.get_close_matches(meal_name, food_names)\n",
    "\n",
    "    if len(matches) == 0:\n",
    "        return None\n",
    "\n",
    "    return [{ 'title': x, 'similarity': similar(x, meal_name) } for x in matches]"
   ]
  },
  {
   "cell_type": "code",
   "execution_count": 26,
   "metadata": {},
   "outputs": [
    {
     "data": {
      "text/plain": [
       "[meal_name          milk\n",
       " unit_name        bottle\n",
       " calories            100\n",
       " fats                 10\n",
       " carbohydrates        20\n",
       " proteins             30\n",
       " Name: 0, dtype: object]"
      ]
     },
     "execution_count": 26,
     "metadata": {},
     "output_type": "execute_result"
    }
   ],
   "source": [
    "found_food = []\n",
    "for i in range(len(extracted_meals)):\n",
    "    row = extracted_meals.iloc[i]\n",
    "\n",
    "    matches = closest_matches(row['meal_name'])\n",
    "\n",
    "    if matches is None:\n",
    "        continue\n",
    "\n",
    "    # Find match in nutrition dataset\n",
    "    match = matches[0]\n",
    "    matched_nutrition_dataset = nutrition_dataset[nutrition_dataset['meal_name'] == match['title']]\n",
    "\n",
    "    found_food.append(matched_nutrition_dataset.iloc[0])\n",
    "\n",
    "found_food"
   ]
  },
  {
   "cell_type": "code",
   "execution_count": 27,
   "metadata": {},
   "outputs": [
    {
     "data": {
      "text/plain": [
       "[meal_name          milk\n",
       " unit_name        bottle\n",
       " calories            100\n",
       " fats                 10\n",
       " carbohydrates        20\n",
       " proteins             30\n",
       " Name: 0, dtype: object]"
      ]
     },
     "execution_count": 27,
     "metadata": {},
     "output_type": "execute_result"
    }
   ],
   "source": [
    "def get_nutrition_values(extracted_meals: pd.DataFrame) -> list:\n",
    "    found_food = []\n",
    "    for i in range(len(extracted_meals)):\n",
    "        row = extracted_meals.iloc[i]\n",
    "\n",
    "        matches = closest_matches(row['meal_name'])\n",
    "\n",
    "        if matches is None:\n",
    "            continue\n",
    "\n",
    "        # Find match in nutrition dataset\n",
    "        match = matches[0]\n",
    "        matched_nutrition_dataset = nutrition_dataset[nutrition_dataset['meal_name'] == match['title']]\n",
    "\n",
    "        found_food.append(matched_nutrition_dataset.iloc[0])\n",
    "\n",
    "    return found_food\n",
    "\n",
    "get_nutrition_values(extracted_meals)"
   ]
  }
 ],
 "metadata": {
  "kernelspec": {
   "display_name": "smart_food_diary",
   "language": "python",
   "name": "python3"
  },
  "language_info": {
   "codemirror_mode": {
    "name": "ipython",
    "version": 3
   },
   "file_extension": ".py",
   "mimetype": "text/x-python",
   "name": "python",
   "nbconvert_exporter": "python",
   "pygments_lexer": "ipython3",
   "version": "3.10.6"
  }
 },
 "nbformat": 4,
 "nbformat_minor": 2
}
