{
 "cells": [
  {
   "cell_type": "code",
   "execution_count": 1,
   "id": "d316520b",
   "metadata": {},
   "outputs": [],
   "source": [
    "import pandas as pd\n",
    "import numpy as np\n",
    "from openai import OpenAI\n",
    "from dotenv import load_dotenv\n",
    "import os"
   ]
  },
  {
   "cell_type": "code",
   "execution_count": 3,
   "id": "f6a4c217",
   "metadata": {},
   "outputs": [
    {
     "data": {
      "text/plain": [
       "True"
      ]
     },
     "execution_count": 3,
     "metadata": {},
     "output_type": "execute_result"
    }
   ],
   "source": [
    "load_dotenv()"
   ]
  },
  {
   "cell_type": "code",
   "execution_count": 21,
   "id": "98133bea",
   "metadata": {},
   "outputs": [],
   "source": [
    "apikey = os.environ.get('APIKEY_FREE')"
   ]
  },
  {
   "cell_type": "code",
   "execution_count": 22,
   "id": "07b849e4",
   "metadata": {},
   "outputs": [],
   "source": [
    "# openai.api_key = apikey\n",
    "# client = OpenAI(api_key=apikey)\n",
    "client = OpenAI(\n",
    "    api_key=apikey,\n",
    ")"
   ]
  },
  {
   "cell_type": "code",
   "execution_count": 23,
   "id": "9636938b",
   "metadata": {},
   "outputs": [],
   "source": [
    "# engines = OpenAI.Engine\n",
    "# engines"
   ]
  },
  {
   "cell_type": "code",
   "execution_count": 100,
   "id": "64ed3d06",
   "metadata": {},
   "outputs": [],
   "source": [
    "prompt = \"Spinach Feta Quiche approx. 300g; small green salad with vinegar oil dressing; Potato soup 100ml, quark with pineapple approx. 100g\"\n",
    "completion = client.chat.completions.create(\n",
    "    model=\"gpt-3.5-turbo-0613\", \n",
    "    messages=[\n",
    "    {\"role\": \"system\", \"content\": \"You are a dietitian. Categorize the information you receive, using a table format. The table should contain: food, portion size, units. Use one word or one number only\"},\n",
    "    {\"role\": \"user\", \"content\": prompt}\n",
    "],\n",
    "    functions=[\n",
    "    {\n",
    "        \"name\": \"get_food_breakdown\",\n",
    "        \"description\": \"Return the keywords in the prompt which satisfy the criteria\",\n",
    "        \"parameters\": {\n",
    "            \"type\": \"object\",\n",
    "            \"properties\": {\n",
    "                \"food\": {\n",
    "                    \"type\": \"array\",\n",
    "                    \"items\": {\n",
    "                        \"type\": \"string\"\n",
    "                    },\n",
    "                    \"description\": \"a list of foods the prompt has\"\n",
    "                },\n",
    "                \"food_start_idx\": {\n",
    "                    \"type\": \"array\",\n",
    "                    \"items\": {\n",
    "                        \"type\": \"number\"\n",
    "                    },\n",
    "                    \"description\": \"start index for the corresponding food\"\n",
    "                },\n",
    "                \"food_end_idx\": {\n",
    "                    \"type\": \"array\",\n",
    "                    \"items\": {\n",
    "                        \"type\": \"number\"\n",
    "                    },\n",
    "                    \"description\": \"end index for the corresponding food\"\n",
    "                },\n",
    "                \"quantity\": {\n",
    "                    \"type\": \"array\",\n",
    "                    \"items\": {\n",
    "                        \"type\": \"number\"\n",
    "                    },\n",
    "                    \"description\": \"list of numbers, corresponding to the above foods\"\n",
    "                },\n",
    "                \"qty_start_idx\": {\n",
    "                    \"type\": \"array\",\n",
    "                    \"items\": {\n",
    "                        \"type\": \"number\"\n",
    "                    },\n",
    "                    \"description\": \"start index for the corresponding quantity\"\n",
    "                },\n",
    "                \"qty_end_idx\": {\n",
    "                    \"type\": \"array\",\n",
    "                    \"items\": {\n",
    "                        \"type\": \"number\"\n",
    "                    },\n",
    "                    \"description\": \"end index for the corresponding quantity\"\n",
    "                },\n",
    "                \"units\": {\n",
    "                    \"type\": \"array\",\n",
    "                    \"items\": {\n",
    "                        \"type\": \"string\"\n",
    "                    },\n",
    "                    \"description\": \"letters or words following and corresponding to the numbers from above\"\n",
    "                },\n",
    "                \"unit_start_idx\": {\n",
    "                    \"type\": \"array\",\n",
    "                    \"items\": {\n",
    "                        \"type\": \"number\"\n",
    "                    },\n",
    "                    \"description\": \"start index for the corresponding units\"\n",
    "                },\n",
    "                \"unit_end_idx\": {\n",
    "                    \"type\": \"array\",\n",
    "                    \"items\": {\n",
    "                        \"type\": \"number\"\n",
    "                    },\n",
    "                    \"description\": \"end index for the corresponding units\"\n",
    "                }\n",
    "            },\n",
    "            \"required\": [\"food\",\"food_start_idx\", 'food_end_idx', \"quantity\", \"qty_start_idx\", \"qty_end_idx\", \"units\", \"unit_start_idx\", \"unit_end_idx\"]\n",
    "        }\n",
    "    }\n",
    "],\n",
    "function_call=\"auto\",\n",
    "max_tokens=300\n",
    "\n",
    ")\n"
   ]
  },
  {
   "cell_type": "code",
   "execution_count": 101,
   "id": "d79270ab",
   "metadata": {},
   "outputs": [
    {
     "data": {
      "text/plain": [
       "'{\\n  \"food\": [\"Spinach Feta Quiche\", \"small green salad\", \"Potato soup\", \"quark with pineapple\"],\\n  \"food_start_idx\": [0, 23, 43, 57],\\n  \"food_end_idx\": [18, 38, 55, 77],\\n  \"quantity\": [300, \"\", 100, 100],\\n  \"qty_start_idx\": [23, -1, 54, 73],\\n  \"qty_end_idx\": [26, -1, 57, 76],\\n  \"units\": [\"g\", \"\", \"ml\", \"g\"],\\n  \"unit_start_idx\": [27, -1, 58, 78],\\n  \"unit_end_idx\": [28, -1, 60, 79]\\n}'"
      ]
     },
     "execution_count": 101,
     "metadata": {},
     "output_type": "execute_result"
    }
   ],
   "source": [
    "completion.choices[0].message.function_call.arguments"
   ]
  },
  {
   "cell_type": "code",
   "execution_count": 102,
   "id": "5d8d011b",
   "metadata": {},
   "outputs": [],
   "source": [
    "# args = json.loads(completion.choices[0].message.function_call.arguments)\n",
    "args = json.loads(completion.choices[0].message.function_call.arguments)"
   ]
  },
  {
   "cell_type": "code",
   "execution_count": 103,
   "id": "b9b7d432",
   "metadata": {},
   "outputs": [
    {
     "data": {
      "text/html": [
       "<div>\n",
       "<style scoped>\n",
       "    .dataframe tbody tr th:only-of-type {\n",
       "        vertical-align: middle;\n",
       "    }\n",
       "\n",
       "    .dataframe tbody tr th {\n",
       "        vertical-align: top;\n",
       "    }\n",
       "\n",
       "    .dataframe thead th {\n",
       "        text-align: right;\n",
       "    }\n",
       "</style>\n",
       "<table border=\"1\" class=\"dataframe\">\n",
       "  <thead>\n",
       "    <tr style=\"text-align: right;\">\n",
       "      <th></th>\n",
       "      <th>food</th>\n",
       "      <th>food_start_idx</th>\n",
       "      <th>food_end_idx</th>\n",
       "      <th>quantity</th>\n",
       "      <th>qty_start_idx</th>\n",
       "      <th>qty_end_idx</th>\n",
       "      <th>units</th>\n",
       "      <th>unit_start_idx</th>\n",
       "      <th>unit_end_idx</th>\n",
       "    </tr>\n",
       "  </thead>\n",
       "  <tbody>\n",
       "    <tr>\n",
       "      <th>0</th>\n",
       "      <td>Spinach Feta Quiche</td>\n",
       "      <td>0</td>\n",
       "      <td>18</td>\n",
       "      <td>300</td>\n",
       "      <td>23</td>\n",
       "      <td>26</td>\n",
       "      <td>g</td>\n",
       "      <td>27</td>\n",
       "      <td>28</td>\n",
       "    </tr>\n",
       "    <tr>\n",
       "      <th>1</th>\n",
       "      <td>small green salad</td>\n",
       "      <td>23</td>\n",
       "      <td>38</td>\n",
       "      <td></td>\n",
       "      <td>-1</td>\n",
       "      <td>-1</td>\n",
       "      <td></td>\n",
       "      <td>-1</td>\n",
       "      <td>-1</td>\n",
       "    </tr>\n",
       "    <tr>\n",
       "      <th>2</th>\n",
       "      <td>Potato soup</td>\n",
       "      <td>43</td>\n",
       "      <td>55</td>\n",
       "      <td>100</td>\n",
       "      <td>54</td>\n",
       "      <td>57</td>\n",
       "      <td>ml</td>\n",
       "      <td>58</td>\n",
       "      <td>60</td>\n",
       "    </tr>\n",
       "    <tr>\n",
       "      <th>3</th>\n",
       "      <td>quark with pineapple</td>\n",
       "      <td>57</td>\n",
       "      <td>77</td>\n",
       "      <td>100</td>\n",
       "      <td>73</td>\n",
       "      <td>76</td>\n",
       "      <td>g</td>\n",
       "      <td>78</td>\n",
       "      <td>79</td>\n",
       "    </tr>\n",
       "  </tbody>\n",
       "</table>\n",
       "</div>"
      ],
      "text/plain": [
       "                   food  food_start_idx  food_end_idx quantity  qty_start_idx  \\\n",
       "0   Spinach Feta Quiche               0            18      300             23   \n",
       "1     small green salad              23            38                      -1   \n",
       "2           Potato soup              43            55      100             54   \n",
       "3  quark with pineapple              57            77      100             73   \n",
       "\n",
       "   qty_end_idx units  unit_start_idx  unit_end_idx  \n",
       "0           26     g              27            28  \n",
       "1           -1                    -1            -1  \n",
       "2           57    ml              58            60  \n",
       "3           76     g              78            79  "
      ]
     },
     "execution_count": 103,
     "metadata": {},
     "output_type": "execute_result"
    }
   ],
   "source": [
    "pd.DataFrame.from_dict(args, orient='columns')"
   ]
  },
  {
   "cell_type": "code",
   "execution_count": null,
   "id": "e59cad8e",
   "metadata": {},
   "outputs": [],
   "source": []
  },
  {
   "cell_type": "code",
   "execution_count": null,
   "id": "930f3245",
   "metadata": {},
   "outputs": [],
   "source": []
  }
 ],
 "metadata": {
  "kernelspec": {
   "display_name": "Python 3 (ipykernel)",
   "language": "python",
   "name": "python3"
  },
  "language_info": {
   "codemirror_mode": {
    "name": "ipython",
    "version": 3
   },
   "file_extension": ".py",
   "mimetype": "text/x-python",
   "name": "python",
   "nbconvert_exporter": "python",
   "pygments_lexer": "ipython3",
   "version": "3.10.6"
  },
  "toc": {
   "base_numbering": 1,
   "nav_menu": {},
   "number_sections": true,
   "sideBar": true,
   "skip_h1_title": false,
   "title_cell": "Table of Contents",
   "title_sidebar": "Contents",
   "toc_cell": false,
   "toc_position": {},
   "toc_section_display": true,
   "toc_window_display": false
  }
 },
 "nbformat": 4,
 "nbformat_minor": 5
}
